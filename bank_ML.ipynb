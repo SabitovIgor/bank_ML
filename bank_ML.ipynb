{
 "cells": [
  {
   "cell_type": "markdown",
   "metadata": {},
   "source": [
    "# Анализ оттока клиентов"
   ]
  },
  {
   "cell_type": "markdown",
   "metadata": {},
   "source": [
    "Презентация: https://disk.yandex.ru/i/0m7bq9q_oEg7tA"
   ]
  },
  {
   "cell_type": "markdown",
   "metadata": {},
   "source": [
    "# Шаг 1. Загрузим данные"
   ]
  },
  {
   "cell_type": "markdown",
   "metadata": {},
   "source": [
    "Импортируем библиотеки и прочитаем файл"
   ]
  },
  {
   "cell_type": "code",
   "execution_count": 1,
   "metadata": {
    "scrolled": false
   },
   "outputs": [],
   "source": [
    "import pandas as pd\n",
    "import seaborn as sns\n",
    "import numpy as np \n",
    "from scipy import stats as st \n",
    "import plotly.graph_objects as go\n",
    "from sklearn.preprocessing import StandardScaler\n",
    "from sklearn.model_selection import train_test_split\n",
    "from sklearn.linear_model import LogisticRegression\n",
    "from sklearn.metrics import roc_auc_score\n",
    "from sklearn.metrics import accuracy_score, precision_score, recall_score, f1_score\n",
    "from scipy.cluster.hierarchy import dendrogram, linkage\n",
    "from sklearn.cluster import KMeans\n",
    "from sklearn.ensemble import RandomForestClassifier\n",
    "import matplotlib.pyplot as plt\n",
    "import warnings\n",
    "warnings.simplefilter(action='ignore', category=FutureWarning)"
   ]
  },
  {
   "cell_type": "code",
   "execution_count": 2,
   "metadata": {
    "scrolled": false
   },
   "outputs": [
    {
     "data": {
      "text/html": [
       "<div>\n",
       "<style scoped>\n",
       "    .dataframe tbody tr th:only-of-type {\n",
       "        vertical-align: middle;\n",
       "    }\n",
       "\n",
       "    .dataframe tbody tr th {\n",
       "        vertical-align: top;\n",
       "    }\n",
       "\n",
       "    .dataframe thead th {\n",
       "        text-align: right;\n",
       "    }\n",
       "</style>\n",
       "<table border=\"1\" class=\"dataframe\">\n",
       "  <thead>\n",
       "    <tr style=\"text-align: right;\">\n",
       "      <th></th>\n",
       "      <th>userid</th>\n",
       "      <th>score</th>\n",
       "      <th>City</th>\n",
       "      <th>Gender</th>\n",
       "      <th>Age</th>\n",
       "      <th>Objects</th>\n",
       "      <th>Balance</th>\n",
       "      <th>Products</th>\n",
       "      <th>CreditCard</th>\n",
       "      <th>Loyalty</th>\n",
       "      <th>estimated_salary</th>\n",
       "      <th>Churn</th>\n",
       "    </tr>\n",
       "  </thead>\n",
       "  <tbody>\n",
       "    <tr>\n",
       "      <th>0</th>\n",
       "      <td>15677338</td>\n",
       "      <td>619</td>\n",
       "      <td>Ярославль</td>\n",
       "      <td>Ж</td>\n",
       "      <td>42</td>\n",
       "      <td>2</td>\n",
       "      <td>NaN</td>\n",
       "      <td>1</td>\n",
       "      <td>1</td>\n",
       "      <td>1</td>\n",
       "      <td>101348.88</td>\n",
       "      <td>1</td>\n",
       "    </tr>\n",
       "    <tr>\n",
       "      <th>1</th>\n",
       "      <td>15690047</td>\n",
       "      <td>608</td>\n",
       "      <td>Рыбинск</td>\n",
       "      <td>Ж</td>\n",
       "      <td>41</td>\n",
       "      <td>1</td>\n",
       "      <td>83807.86</td>\n",
       "      <td>1</td>\n",
       "      <td>0</td>\n",
       "      <td>1</td>\n",
       "      <td>112542.58</td>\n",
       "      <td>0</td>\n",
       "    </tr>\n",
       "    <tr>\n",
       "      <th>2</th>\n",
       "      <td>15662040</td>\n",
       "      <td>502</td>\n",
       "      <td>Ярославль</td>\n",
       "      <td>Ж</td>\n",
       "      <td>42</td>\n",
       "      <td>8</td>\n",
       "      <td>159660.80</td>\n",
       "      <td>3</td>\n",
       "      <td>1</td>\n",
       "      <td>0</td>\n",
       "      <td>113931.57</td>\n",
       "      <td>1</td>\n",
       "    </tr>\n",
       "    <tr>\n",
       "      <th>3</th>\n",
       "      <td>15744090</td>\n",
       "      <td>699</td>\n",
       "      <td>Ярославль</td>\n",
       "      <td>Ж</td>\n",
       "      <td>39</td>\n",
       "      <td>1</td>\n",
       "      <td>NaN</td>\n",
       "      <td>2</td>\n",
       "      <td>0</td>\n",
       "      <td>0</td>\n",
       "      <td>93826.63</td>\n",
       "      <td>0</td>\n",
       "    </tr>\n",
       "    <tr>\n",
       "      <th>4</th>\n",
       "      <td>15780624</td>\n",
       "      <td>850</td>\n",
       "      <td>Рыбинск</td>\n",
       "      <td>Ж</td>\n",
       "      <td>43</td>\n",
       "      <td>2</td>\n",
       "      <td>125510.82</td>\n",
       "      <td>1</td>\n",
       "      <td>1</td>\n",
       "      <td>1</td>\n",
       "      <td>79084.10</td>\n",
       "      <td>0</td>\n",
       "    </tr>\n",
       "  </tbody>\n",
       "</table>\n",
       "</div>"
      ],
      "text/plain": [
       "     userid  score       City Gender  Age  Objects    Balance  Products  \\\n",
       "0  15677338    619  Ярославль      Ж   42        2        NaN         1   \n",
       "1  15690047    608    Рыбинск      Ж   41        1   83807.86         1   \n",
       "2  15662040    502  Ярославль      Ж   42        8  159660.80         3   \n",
       "3  15744090    699  Ярославль      Ж   39        1        NaN         2   \n",
       "4  15780624    850    Рыбинск      Ж   43        2  125510.82         1   \n",
       "\n",
       "   CreditCard  Loyalty  estimated_salary  Churn  \n",
       "0           1        1         101348.88      1  \n",
       "1           0        1         112542.58      0  \n",
       "2           1        0         113931.57      1  \n",
       "3           0        0          93826.63      0  \n",
       "4           1        1          79084.10      0  "
      ]
     },
     "execution_count": 2,
     "metadata": {},
     "output_type": "execute_result"
    }
   ],
   "source": [
    "df = pd.read_csv('/datasets/bank_dataset.csv')# чтение файла с данными и сохранение в df\n",
    "df.head()"
   ]
  },
  {
   "cell_type": "markdown",
   "metadata": {},
   "source": [
    "Посмотрим на информацию датасета, переведем категориальные данные в количественные"
   ]
  },
  {
   "cell_type": "code",
   "execution_count": 3,
   "metadata": {},
   "outputs": [],
   "source": [
    "df.to_csv('file.csv')"
   ]
  },
  {
   "cell_type": "code",
   "execution_count": 112,
   "metadata": {
    "scrolled": false
   },
   "outputs": [
    {
     "name": "stdout",
     "output_type": "stream",
     "text": [
      "<class 'pandas.core.frame.DataFrame'>\n",
      "RangeIndex: 10000 entries, 0 to 9999\n",
      "Data columns (total 12 columns):\n",
      " #   Column            Non-Null Count  Dtype  \n",
      "---  ------            --------------  -----  \n",
      " 0   userid            10000 non-null  int64  \n",
      " 1   score             10000 non-null  int64  \n",
      " 2   City              10000 non-null  object \n",
      " 3   Gender            10000 non-null  object \n",
      " 4   Age               10000 non-null  int64  \n",
      " 5   Objects           10000 non-null  int64  \n",
      " 6   Balance           6383 non-null   float64\n",
      " 7   Products          10000 non-null  int64  \n",
      " 8   CreditCard        10000 non-null  int64  \n",
      " 9   Loyalty           10000 non-null  int64  \n",
      " 10  estimated_salary  10000 non-null  float64\n",
      " 11  Churn             10000 non-null  int64  \n",
      "dtypes: float64(2), int64(8), object(2)\n",
      "memory usage: 937.6+ KB\n"
     ]
    }
   ],
   "source": [
    "df.info()"
   ]
  },
  {
   "cell_type": "code",
   "execution_count": 113,
   "metadata": {
    "scrolled": true
   },
   "outputs": [],
   "source": [
    "df = df.drop('userid', axis = 1)\n",
    "df = df.replace({'Gender': {'М': 1, 'Ж': 0}})\n",
    "df = df.replace({'City': {'Ростов Великий': 0, 'Рыбинск': 1, 'Ярославль': 2}})"
   ]
  },
  {
   "cell_type": "markdown",
   "metadata": {},
   "source": [
    "Найдем количесвто дубликатов"
   ]
  },
  {
   "cell_type": "code",
   "execution_count": 114,
   "metadata": {
    "scrolled": false
   },
   "outputs": [
    {
     "data": {
      "text/plain": [
       "0"
      ]
     },
     "execution_count": 114,
     "metadata": {},
     "output_type": "execute_result"
    }
   ],
   "source": [
    "df.duplicated().sum() "
   ]
  },
  {
   "cell_type": "markdown",
   "metadata": {},
   "source": [
    "Узнаем долю пропусков в датасете"
   ]
  },
  {
   "cell_type": "code",
   "execution_count": 115,
   "metadata": {
    "scrolled": false
   },
   "outputs": [
    {
     "data": {
      "text/plain": [
       "score                0.00\n",
       "City                 0.00\n",
       "Gender               0.00\n",
       "Age                  0.00\n",
       "Objects              0.00\n",
       "Balance             36.17\n",
       "Products             0.00\n",
       "CreditCard           0.00\n",
       "Loyalty              0.00\n",
       "estimated_salary     0.00\n",
       "Churn                0.00\n",
       "dtype: float64"
      ]
     },
     "execution_count": 115,
     "metadata": {},
     "output_type": "execute_result"
    }
   ],
   "source": [
    "round((df.isna().mean()*100),2)"
   ]
  },
  {
   "cell_type": "markdown",
   "metadata": {},
   "source": [
    "Посмотрим на пропущенные значения в столбце 'Balance', возможно у этих пользователей есть что то общее"
   ]
  },
  {
   "cell_type": "code",
   "execution_count": 116,
   "metadata": {
    "scrolled": false
   },
   "outputs": [],
   "source": [
    "df_na = df.fillna(1)\n",
    "df_null = df_na.query('Balance==1')\n",
    "df_no_null = df_na.query('Balance!=1')\n"
   ]
  },
  {
   "cell_type": "code",
   "execution_count": 117,
   "metadata": {
    "scrolled": true
   },
   "outputs": [
    {
     "data": {
      "image/png": "[encoded data removed]",
      "text/plain": [
       "<Figure size 230.4x288 with 1 Axes>"
      ]
     },
     "metadata": {
      "needs_background": "light"
     },
     "output_type": "display_data"
    },
    {
     "data": {
      "image/png": "[encoded data removed]",
      "text/plain": [
       "<Figure size 230.4x288 with 1 Axes>"
      ]
     },
     "metadata": {
      "needs_background": "light"
     },
     "output_type": "display_data"
    },
    {
     "data": {
      "image/png": "[encoded data removed]",
      "text/plain": [
       "<Figure size 230.4x288 with 1 Axes>"
      ]
     },
     "metadata": {
      "needs_background": "light"
     },
     "output_type": "display_data"
    },
    {
     "data": {
      "image/png": "[encoded data removed]",
      "text/plain": [
       "<Figure size 230.4x288 with 1 Axes>"
      ]
     },
     "metadata": {
      "needs_background": "light"
     },
     "output_type": "display_data"
    },
    {
     "data": {
      "image/png": "[encoded data removed]",
      "text/plain": [
       "<Figure size 230.4x288 with 1 Axes>"
      ]
     },
     "metadata": {
      "needs_background": "light"
     },
     "output_type": "display_data"
    },
    {
     "data": {
      "image/png": "[encoded data removed]",
      "text/plain": [
       "<Figure size 230.4x288 with 1 Axes>"
      ]
     },
     "metadata": {
      "needs_background": "light"
     },
     "output_type": "display_data"
    },
    {
     "data": {
      "image/png": "[encoded data removed]",
      "text/plain": [
       "<Figure size 230.4x288 with 1 Axes>"
      ]
     },
     "metadata": {
      "needs_background": "light"
     },
     "output_type": "display_data"
    },
    {
     "data": {
      "image/png": "[encoded data removed]",
      "text/plain": [
       "<Figure size 230.4x288 with 1 Axes>"
      ]
     },
     "metadata": {
      "needs_background": "light"
     },
     "output_type": "display_data"
    },
    {
     "data": {
      "image/png": "[encoded data removed]",
      "text/plain": [
       "<Figure size 230.4x288 with 1 Axes>"
      ]
     },
     "metadata": {
      "needs_background": "light"
     },
     "output_type": "display_data"
    },
    {
     "data": {
      "image/png": "[encoded data removed]",
      "text/plain": [
       "<Figure size 230.4x288 with 1 Axes>"
      ]
     },
     "metadata": {
      "needs_background": "light"
     },
     "output_type": "display_data"
    },
    {
     "data": {
      "image/png": "[encoded data removed]",
      "text/plain": [
       "<Figure size 230.4x288 with 1 Axes>"
      ]
     },
     "metadata": {
      "needs_background": "light"
     },
     "output_type": "display_data"
    },
    {
     "data": {
      "image/png": "[encoded data removed]",
      "text/plain": [
       "<Figure size 230.4x288 with 1 Axes>"
      ]
     },
     "metadata": {
      "needs_background": "light"
     },
     "output_type": "display_data"
    }
   ],
   "source": [
    "df_null = df_null[['City','Gender','CreditCard', 'Loyalty','Products','Churn']]\n",
    "df_no_null = df_no_null[['City','Gender','CreditCard', 'Loyalty','Products','Churn']]\n",
    "for col in df_null.columns:\n",
    "    sns.catplot(col, data = df_null, kind=\"count\", height=4, aspect=.8)\n",
    "    sns.catplot(col, data = df_no_null, kind=\"count\", height=4, aspect=.8)"
   ]
  },
  {
   "cell_type": "markdown",
   "metadata": {},
   "source": [
    "В пропущенных значениях нет города Ростов Великий, а так же подозрительно много значений продуктов (два). Это количество совпадает с количесвтом кредитных карт, что логично. Но наличие кредитной карты никак не влияет на природу этих пропусков."
   ]
  },
  {
   "cell_type": "code",
   "execution_count": 118,
   "metadata": {
    "scrolled": false
   },
   "outputs": [],
   "source": [
    "# функция, которая вычисляет метрики\n",
    "def print_all_metrics(y_true, y_pred, y_proba, title = 'Метрики классификации'):\n",
    "    print(title)\n",
    "    print('\\tAccuracy: {:.2f}'.format(accuracy_score(y_true, y_pred)))\n",
    "    print('\\tPrecision: {:.2f}'.format(precision_score(y_true, y_pred)))\n",
    "    print('\\tRecall: {:.2f}'.format(recall_score(y_true, y_pred)))\n",
    "    print('\\tF1: {:.2f}'.format(f1_score(y_true, y_pred)))\n",
    "    print('\\tROC_AUC: {:.2f}'.format(roc_auc_score(y_true, y_proba)))"
   ]
  },
  {
   "cell_type": "code",
   "execution_count": 119,
   "metadata": {
    "scrolled": false
   },
   "outputs": [
    {
     "name": "stdout",
     "output_type": "stream",
     "text": [
      "Метрики для данных без пропусков:\n",
      "\tAccuracy: 0.79\n",
      "\tPrecision: 0.69\n",
      "\tRecall: 0.26\n",
      "\tF1: 0.38\n",
      "\tROC_AUC: 0.74\n"
     ]
    }
   ],
   "source": [
    "X = df_no_null.drop('Churn', axis = 1)\n",
    "y = df_no_null['Churn']\n",
    "X_train, X_test, y_train, y_test = train_test_split(X, y, test_size=0.2)\n",
    "rf_model = RandomForestClassifier(n_estimators = 100)\n",
    "rf_model.fit(X_train, y_train)\n",
    "rf_predictions = rf_model.predict(X_test)\n",
    "rf_probabilities = rf_model.predict_proba(X_test)[:,1]\n",
    "print_all_metrics(y_test, rf_predictions, rf_probabilities, title = 'Метрики для данных без пропусков:')"
   ]
  },
  {
   "cell_type": "markdown",
   "metadata": {},
   "source": [
    "Качество модели, если не учитывать пропуски 0,74. Посмотрим, что будет если их заполнить"
   ]
  },
  {
   "cell_type": "markdown",
   "metadata": {},
   "source": [
    "Для обработки пропусков можно взять столбец \"Заработная плата\" и умножить на  медианное отношение баланса на счете к \"ЗП\""
   ]
  },
  {
   "cell_type": "code",
   "execution_count": 120,
   "metadata": {
    "scrolled": false
   },
   "outputs": [],
   "source": [
    "k = (df['Balance']/df['estimated_salary']).median()\n",
    "df['Balance'] = df['Balance'].fillna(df['estimated_salary']*k)"
   ]
  },
  {
   "cell_type": "markdown",
   "metadata": {},
   "source": [
    "Посмотрим на датасет: есть ли в нем отсутствующие признаки, изучим средние значения и стандартные отклонения"
   ]
  },
  {
   "cell_type": "code",
   "execution_count": 121,
   "metadata": {
    "scrolled": false
   },
   "outputs": [
    {
     "data": {
      "text/html": [
       "<div>\n",
       "<style scoped>\n",
       "    .dataframe tbody tr th:only-of-type {\n",
       "        vertical-align: middle;\n",
       "    }\n",
       "\n",
       "    .dataframe tbody tr th {\n",
       "        vertical-align: top;\n",
       "    }\n",
       "\n",
       "    .dataframe thead th {\n",
       "        text-align: right;\n",
       "    }\n",
       "</style>\n",
       "<table border=\"1\" class=\"dataframe\">\n",
       "  <thead>\n",
       "    <tr style=\"text-align: right;\">\n",
       "      <th></th>\n",
       "      <th>score</th>\n",
       "      <th>City</th>\n",
       "      <th>Gender</th>\n",
       "      <th>Age</th>\n",
       "      <th>Objects</th>\n",
       "      <th>Balance</th>\n",
       "      <th>Products</th>\n",
       "      <th>CreditCard</th>\n",
       "      <th>Loyalty</th>\n",
       "      <th>estimated_salary</th>\n",
       "      <th>Churn</th>\n",
       "    </tr>\n",
       "  </thead>\n",
       "  <tbody>\n",
       "    <tr>\n",
       "      <th>count</th>\n",
       "      <td>10000.000000</td>\n",
       "      <td>10000.000000</td>\n",
       "      <td>10000.000000</td>\n",
       "      <td>10000.000000</td>\n",
       "      <td>10000.000000</td>\n",
       "      <td>10000.000000</td>\n",
       "      <td>10000.000000</td>\n",
       "      <td>10000.00000</td>\n",
       "      <td>10000.000000</td>\n",
       "      <td>10000.000000</td>\n",
       "      <td>10000.000000</td>\n",
       "    </tr>\n",
       "    <tr>\n",
       "      <th>mean</th>\n",
       "      <td>650.528800</td>\n",
       "      <td>1.250500</td>\n",
       "      <td>0.545700</td>\n",
       "      <td>38.921800</td>\n",
       "      <td>5.012800</td>\n",
       "      <td>119145.414696</td>\n",
       "      <td>1.530200</td>\n",
       "      <td>0.70550</td>\n",
       "      <td>0.515100</td>\n",
       "      <td>100090.239881</td>\n",
       "      <td>0.203700</td>\n",
       "    </tr>\n",
       "    <tr>\n",
       "      <th>std</th>\n",
       "      <td>96.653299</td>\n",
       "      <td>0.830433</td>\n",
       "      <td>0.497932</td>\n",
       "      <td>10.487806</td>\n",
       "      <td>2.892174</td>\n",
       "      <td>47854.854018</td>\n",
       "      <td>0.581654</td>\n",
       "      <td>0.45584</td>\n",
       "      <td>0.499797</td>\n",
       "      <td>57510.492818</td>\n",
       "      <td>0.402769</td>\n",
       "    </tr>\n",
       "    <tr>\n",
       "      <th>min</th>\n",
       "      <td>350.000000</td>\n",
       "      <td>0.000000</td>\n",
       "      <td>0.000000</td>\n",
       "      <td>18.000000</td>\n",
       "      <td>0.000000</td>\n",
       "      <td>107.320974</td>\n",
       "      <td>1.000000</td>\n",
       "      <td>0.00000</td>\n",
       "      <td>0.000000</td>\n",
       "      <td>11.580000</td>\n",
       "      <td>0.000000</td>\n",
       "    </tr>\n",
       "    <tr>\n",
       "      <th>25%</th>\n",
       "      <td>584.000000</td>\n",
       "      <td>0.000000</td>\n",
       "      <td>0.000000</td>\n",
       "      <td>32.000000</td>\n",
       "      <td>3.000000</td>\n",
       "      <td>92360.065000</td>\n",
       "      <td>1.000000</td>\n",
       "      <td>0.00000</td>\n",
       "      <td>0.000000</td>\n",
       "      <td>51002.110000</td>\n",
       "      <td>0.000000</td>\n",
       "    </tr>\n",
       "    <tr>\n",
       "      <th>50%</th>\n",
       "      <td>652.000000</td>\n",
       "      <td>2.000000</td>\n",
       "      <td>1.000000</td>\n",
       "      <td>37.000000</td>\n",
       "      <td>5.000000</td>\n",
       "      <td>119511.405985</td>\n",
       "      <td>1.000000</td>\n",
       "      <td>1.00000</td>\n",
       "      <td>1.000000</td>\n",
       "      <td>100193.915000</td>\n",
       "      <td>0.000000</td>\n",
       "    </tr>\n",
       "    <tr>\n",
       "      <th>75%</th>\n",
       "      <td>718.000000</td>\n",
       "      <td>2.000000</td>\n",
       "      <td>1.000000</td>\n",
       "      <td>44.000000</td>\n",
       "      <td>7.000000</td>\n",
       "      <td>146769.400000</td>\n",
       "      <td>2.000000</td>\n",
       "      <td>1.00000</td>\n",
       "      <td>1.000000</td>\n",
       "      <td>149388.247500</td>\n",
       "      <td>0.000000</td>\n",
       "    </tr>\n",
       "    <tr>\n",
       "      <th>max</th>\n",
       "      <td>850.000000</td>\n",
       "      <td>2.000000</td>\n",
       "      <td>1.000000</td>\n",
       "      <td>92.000000</td>\n",
       "      <td>10.000000</td>\n",
       "      <td>250898.090000</td>\n",
       "      <td>4.000000</td>\n",
       "      <td>1.00000</td>\n",
       "      <td>1.000000</td>\n",
       "      <td>199992.480000</td>\n",
       "      <td>1.000000</td>\n",
       "    </tr>\n",
       "  </tbody>\n",
       "</table>\n",
       "</div>"
      ],
      "text/plain": [
       "              score          City        Gender           Age       Objects  \\\n",
       "count  10000.000000  10000.000000  10000.000000  10000.000000  10000.000000   \n",
       "mean     650.528800      1.250500      0.545700     38.921800      5.012800   \n",
       "std       96.653299      0.830433      0.497932     10.487806      2.892174   \n",
       "min      350.000000      0.000000      0.000000     18.000000      0.000000   \n",
       "25%      584.000000      0.000000      0.000000     32.000000      3.000000   \n",
       "50%      652.000000      2.000000      1.000000     37.000000      5.000000   \n",
       "75%      718.000000      2.000000      1.000000     44.000000      7.000000   \n",
       "max      850.000000      2.000000      1.000000     92.000000     10.000000   \n",
       "\n",
       "             Balance      Products   CreditCard       Loyalty  \\\n",
       "count   10000.000000  10000.000000  10000.00000  10000.000000   \n",
       "mean   119145.414696      1.530200      0.70550      0.515100   \n",
       "std     47854.854018      0.581654      0.45584      0.499797   \n",
       "min       107.320974      1.000000      0.00000      0.000000   \n",
       "25%     92360.065000      1.000000      0.00000      0.000000   \n",
       "50%    119511.405985      1.000000      1.00000      1.000000   \n",
       "75%    146769.400000      2.000000      1.00000      1.000000   \n",
       "max    250898.090000      4.000000      1.00000      1.000000   \n",
       "\n",
       "       estimated_salary         Churn  \n",
       "count      10000.000000  10000.000000  \n",
       "mean      100090.239881      0.203700  \n",
       "std        57510.492818      0.402769  \n",
       "min           11.580000      0.000000  \n",
       "25%        51002.110000      0.000000  \n",
       "50%       100193.915000      0.000000  \n",
       "75%       149388.247500      0.000000  \n",
       "max       199992.480000      1.000000  "
      ]
     },
     "execution_count": 121,
     "metadata": {},
     "output_type": "execute_result"
    }
   ],
   "source": [
    "df.describe()"
   ]
  },
  {
   "cell_type": "markdown",
   "metadata": {},
   "source": [
    "Посмотрим на средние значения признаков в двух группах"
   ]
  },
  {
   "cell_type": "code",
   "execution_count": 122,
   "metadata": {
    "scrolled": true
   },
   "outputs": [
    {
     "data": {
      "text/html": [
       "<div>\n",
       "<style scoped>\n",
       "    .dataframe tbody tr th:only-of-type {\n",
       "        vertical-align: middle;\n",
       "    }\n",
       "\n",
       "    .dataframe tbody tr th {\n",
       "        vertical-align: top;\n",
       "    }\n",
       "\n",
       "    .dataframe thead th {\n",
       "        text-align: right;\n",
       "    }\n",
       "</style>\n",
       "<table border=\"1\" class=\"dataframe\">\n",
       "  <thead>\n",
       "    <tr style=\"text-align: right;\">\n",
       "      <th></th>\n",
       "      <th>score</th>\n",
       "      <th>City</th>\n",
       "      <th>Gender</th>\n",
       "      <th>Age</th>\n",
       "      <th>Objects</th>\n",
       "      <th>Balance</th>\n",
       "      <th>Products</th>\n",
       "      <th>CreditCard</th>\n",
       "      <th>Loyalty</th>\n",
       "      <th>estimated_salary</th>\n",
       "    </tr>\n",
       "    <tr>\n",
       "      <th>Churn</th>\n",
       "      <th></th>\n",
       "      <th></th>\n",
       "      <th></th>\n",
       "      <th></th>\n",
       "      <th></th>\n",
       "      <th></th>\n",
       "      <th></th>\n",
       "      <th></th>\n",
       "      <th></th>\n",
       "      <th></th>\n",
       "    </tr>\n",
       "  </thead>\n",
       "  <tbody>\n",
       "    <tr>\n",
       "      <th>0</th>\n",
       "      <td>651.853196</td>\n",
       "      <td>1.315082</td>\n",
       "      <td>0.572523</td>\n",
       "      <td>37.408389</td>\n",
       "      <td>5.033279</td>\n",
       "      <td>118702.489144</td>\n",
       "      <td>1.544267</td>\n",
       "      <td>0.707146</td>\n",
       "      <td>0.554565</td>\n",
       "      <td>99738.391772</td>\n",
       "    </tr>\n",
       "    <tr>\n",
       "      <th>1</th>\n",
       "      <td>645.351497</td>\n",
       "      <td>0.998036</td>\n",
       "      <td>0.440844</td>\n",
       "      <td>44.837997</td>\n",
       "      <td>4.932744</td>\n",
       "      <td>120876.890481</td>\n",
       "      <td>1.475209</td>\n",
       "      <td>0.699067</td>\n",
       "      <td>0.360825</td>\n",
       "      <td>101465.677531</td>\n",
       "    </tr>\n",
       "  </tbody>\n",
       "</table>\n",
       "</div>"
      ],
      "text/plain": [
       "            score      City    Gender        Age   Objects        Balance  \\\n",
       "Churn                                                                       \n",
       "0      651.853196  1.315082  0.572523  37.408389  5.033279  118702.489144   \n",
       "1      645.351497  0.998036  0.440844  44.837997  4.932744  120876.890481   \n",
       "\n",
       "       Products  CreditCard   Loyalty  estimated_salary  \n",
       "Churn                                                    \n",
       "0      1.544267    0.707146  0.554565      99738.391772  \n",
       "1      1.475209    0.699067  0.360825     101465.677531  "
      ]
     },
     "execution_count": 122,
     "metadata": {},
     "output_type": "execute_result"
    }
   ],
   "source": [
    "df.groupby('Churn').agg('mean')"
   ]
  },
  {
   "cell_type": "markdown",
   "metadata": {
    "scrolled": true
   },
   "source": [
    "Уже по средним значениям можно сделать следующие выводы:\n",
    "- значения городов в оттоке разные\n",
    "- разный средний возраст"
   ]
  },
  {
   "cell_type": "markdown",
   "metadata": {},
   "source": [
    "Построим столбчатые гистограммы и распределения признаков для тех, кто ушёл (отток) и тех, кто остался (не попали в отток)"
   ]
  },
  {
   "cell_type": "code",
   "execution_count": 123,
   "metadata": {
    "scrolled": true
   },
   "outputs": [
    {
     "data": {
      "image/png": "[encoded data removed]",
      "text/plain": [
       "<Figure size 720x432 with 1 Axes>"
      ]
     },
     "metadata": {
      "needs_background": "light"
     },
     "output_type": "display_data"
    },
    {
     "data": {
      "image/png": "[encoded data removed]",
      "text/plain": [
       "<Figure size 720x432 with 1 Axes>"
      ]
     },
     "metadata": {
      "needs_background": "light"
     },
     "output_type": "display_data"
    },
    {
     "data": {
      "image/png": "[encoded data removed]",
      "text/plain": [
       "<Figure size 720x432 with 1 Axes>"
      ]
     },
     "metadata": {
      "needs_background": "light"
     },
     "output_type": "display_data"
    },
    {
     "data": {
      "image/png": "[encoded data removed]",
      "text/plain": [
       "<Figure size 720x432 with 1 Axes>"
      ]
     },
     "metadata": {
      "needs_background": "light"
     },
     "output_type": "display_data"
    }
   ],
   "source": [
    "df_churn=df.query('Churn == 1')\n",
    "df_no_churn=df.query('Churn == 0')\n",
    "columns_hist=['Age','Objects','Balance','estimated_salary']\n",
    "columns_name=['Гистограмма возраста','Гистограмма количества объектов','Гистограмма баланса','Гистограмма дохода']\n",
    "for x,y in zip(columns_hist,columns_name):    \n",
    "    plt.figure(figsize=(10,6))\n",
    "    df_no_churn[x].hist(bins=20)\n",
    "    df_churn[x].hist(bins=20)   \n",
    "    plt.title(y, fontsize=16)\n",
    "    plt.legend(['1', '0'], fontsize=14)\n",
    "    plt.show()"
   ]
  },
  {
   "cell_type": "markdown",
   "metadata": {},
   "source": [
    "Из этих гистограмм можем сделать следующие выводы:\n",
    "- Клиенты которые в оттоке, более старшие\n",
    "- Количесвто объектов распределяется примерно равномерно\n",
    "- Гистограмма баланса рисует нормальное распределение\n",
    "- Гистограмма дохода странно распределена,   должно  быть нормальное распределение"
   ]
  },
  {
   "cell_type": "code",
   "execution_count": 124,
   "metadata": {
    "scrolled": false
   },
   "outputs": [
    {
     "data": {
      "image/png": "[encoded data removed]",
      "text/plain": [
       "<Figure size 460.8x288 with 2 Axes>"
      ]
     },
     "metadata": {
      "needs_background": "light"
     },
     "output_type": "display_data"
    },
    {
     "data": {
      "image/png": "[encoded data removed]",
      "text/plain": [
       "<Figure size 460.8x288 with 2 Axes>"
      ]
     },
     "metadata": {
      "needs_background": "light"
     },
     "output_type": "display_data"
    },
    {
     "data": {
      "image/png": "[encoded data removed]",
      "text/plain": [
       "<Figure size 460.8x288 with 2 Axes>"
      ]
     },
     "metadata": {
      "needs_background": "light"
     },
     "output_type": "display_data"
    },
    {
     "data": {
      "image/png": "[encoded data removed]",
      "text/plain": [
       "<Figure size 460.8x288 with 2 Axes>"
      ]
     },
     "metadata": {
      "needs_background": "light"
     },
     "output_type": "display_data"
    },
    {
     "data": {
      "image/png": "[encoded data removed]",
      "text/plain": [
       "<Figure size 460.8x288 with 2 Axes>"
      ]
     },
     "metadata": {
      "needs_background": "light"
     },
     "output_type": "display_data"
    },
    {
     "data": {
      "image/png": "[encoded data removed]",
      "text/plain": [
       "<Figure size 460.8x288 with 2 Axes>"
      ]
     },
     "metadata": {
      "needs_background": "light"
     },
     "output_type": "display_data"
    }
   ],
   "source": [
    "binar_feat = df[['City','Gender','CreditCard', 'Loyalty','Products','Churn']]\n",
    "for col in binar_feat.columns:\n",
    "    sns.catplot(col, col=\"Churn\", data = binar_feat, kind=\"count\", height=4, aspect=.8)"
   ]
  },
  {
   "cell_type": "markdown",
   "metadata": {},
   "source": [
    "Из этих диаграмм видим следующее:\n",
    "- Из Ростова Великого уходят чаще чем из других город\n",
    "- Женщин в отток попадает больше\n",
    "- Наличие кредитки не влияет на отток\n",
    "- Лояльность у пользователей, которые ушли меньше, что логично\n",
    "- Распределение продуктов интересное, есть клиенты у которых 3 или 4 продукта (в основном 1) и они попали в отток, в то время как у \"лояльных\" клиентов в основном 2 продукта\n",
    "- 20% оттока \n"
   ]
  },
  {
   "cell_type": "markdown",
   "metadata": {},
   "source": [
    "Построим матрицу корреляций"
   ]
  },
  {
   "cell_type": "code",
   "execution_count": 125,
   "metadata": {
    "scrolled": false
   },
   "outputs": [
    {
     "data": {
      "image/png": "[encoded data removed]",
      "text/plain": [
       "<Figure size 648x648 with 2 Axes>"
      ]
     },
     "metadata": {
      "needs_background": "light"
     },
     "output_type": "display_data"
    }
   ],
   "source": [
    "plt.figure(figsize=(9, 9))\n",
    "sns.heatmap(df.corr(), annot=True, square=True)\n",
    "plt.show()"
   ]
  },
  {
   "cell_type": "markdown",
   "metadata": {},
   "source": [
    "Сильно коррелирует возраст с оттоком, а так же месячная заплата с балансом счета."
   ]
  },
  {
   "cell_type": "markdown",
   "metadata": {
    "scrolled": true
   },
   "source": [
    "Построим модель бинарной классификации клиентов, где целевой признак — факт оттока клиента в следующем месяце. Интресно какие метрики будут по модели случайного леса"
   ]
  },
  {
   "cell_type": "code",
   "execution_count": 126,
   "metadata": {
    "scrolled": false
   },
   "outputs": [],
   "source": [
    "# разделим наши данные на признаки (матрица X) и целевую переменную (y)\n",
    "X = df.drop('Churn', axis = 1)\n",
    "y = df['Churn']\n",
    "# разделяем модель на обучающую и валидационную выборку\n",
    "X_train, X_test, y_train, y_test = train_test_split(X, y, test_size=0.2)"
   ]
  },
  {
   "cell_type": "code",
   "execution_count": 127,
   "metadata": {
    "scrolled": false
   },
   "outputs": [
    {
     "name": "stdout",
     "output_type": "stream",
     "text": [
      "Метрики для модели случайного леса:\n",
      "\tAccuracy: 0.86\n",
      "\tPrecision: 0.78\n",
      "\tRecall: 0.47\n",
      "\tF1: 0.58\n",
      "\tROC_AUC: 0.86\n"
     ]
    }
   ],
   "source": [
    "# Применяем модель случайного леса\n",
    "rf_model = RandomForestClassifier(n_estimators = 100)\n",
    "rf_model.fit(X_train, y_train)\n",
    "rf_predictions = rf_model.predict(X_test)\n",
    "rf_probabilities = rf_model.predict_proba(X_test)[:,1]\n",
    "print_all_metrics(y_test, rf_predictions, rf_probabilities, title = 'Метрики для модели случайного леса:')"
   ]
  },
  {
   "cell_type": "markdown",
   "metadata": {},
   "source": [
    "Качество модели случайного леса хорошее 0.86 по ROC_AUC, а с удалением пропусков 0,74, что заметно хуже. Решение заполнения пропусков было верным."
   ]
  },
  {
   "cell_type": "code",
   "execution_count": 128,
   "metadata": {
    "scrolled": true
   },
   "outputs": [
    {
     "data": {
      "text/html": [
       "<div>\n",
       "<style scoped>\n",
       "    .dataframe tbody tr th:only-of-type {\n",
       "        vertical-align: middle;\n",
       "    }\n",
       "\n",
       "    .dataframe tbody tr th {\n",
       "        vertical-align: top;\n",
       "    }\n",
       "\n",
       "    .dataframe thead th {\n",
       "        text-align: right;\n",
       "    }\n",
       "</style>\n",
       "<table border=\"1\" class=\"dataframe\">\n",
       "  <thead>\n",
       "    <tr style=\"text-align: right;\">\n",
       "      <th></th>\n",
       "      <th>feature</th>\n",
       "      <th>importance</th>\n",
       "    </tr>\n",
       "  </thead>\n",
       "  <tbody>\n",
       "    <tr>\n",
       "      <th>3</th>\n",
       "      <td>Age</td>\n",
       "      <td>0.234360</td>\n",
       "    </tr>\n",
       "    <tr>\n",
       "      <th>5</th>\n",
       "      <td>Balance</td>\n",
       "      <td>0.161467</td>\n",
       "    </tr>\n",
       "    <tr>\n",
       "      <th>9</th>\n",
       "      <td>estimated_salary</td>\n",
       "      <td>0.144447</td>\n",
       "    </tr>\n",
       "    <tr>\n",
       "      <th>0</th>\n",
       "      <td>score</td>\n",
       "      <td>0.140041</td>\n",
       "    </tr>\n",
       "    <tr>\n",
       "      <th>6</th>\n",
       "      <td>Products</td>\n",
       "      <td>0.122802</td>\n",
       "    </tr>\n",
       "    <tr>\n",
       "      <th>4</th>\n",
       "      <td>Objects</td>\n",
       "      <td>0.076956</td>\n",
       "    </tr>\n",
       "    <tr>\n",
       "      <th>8</th>\n",
       "      <td>Loyalty</td>\n",
       "      <td>0.044760</td>\n",
       "    </tr>\n",
       "    <tr>\n",
       "      <th>1</th>\n",
       "      <td>City</td>\n",
       "      <td>0.039255</td>\n",
       "    </tr>\n",
       "    <tr>\n",
       "      <th>7</th>\n",
       "      <td>CreditCard</td>\n",
       "      <td>0.018445</td>\n",
       "    </tr>\n",
       "    <tr>\n",
       "      <th>2</th>\n",
       "      <td>Gender</td>\n",
       "      <td>0.017468</td>\n",
       "    </tr>\n",
       "  </tbody>\n",
       "</table>\n",
       "</div>"
      ],
      "text/plain": [
       "            feature  importance\n",
       "3               Age    0.234360\n",
       "5           Balance    0.161467\n",
       "9  estimated_salary    0.144447\n",
       "0             score    0.140041\n",
       "6          Products    0.122802\n",
       "4           Objects    0.076956\n",
       "8           Loyalty    0.044760\n",
       "1              City    0.039255\n",
       "7        CreditCard    0.018445\n",
       "2            Gender    0.017468"
      ]
     },
     "execution_count": 128,
     "metadata": {},
     "output_type": "execute_result"
    }
   ],
   "source": [
    "f_m = pd.DataFrame({'feature' : X_train.columns, 'importance' : rf_model.feature_importances_})\n",
    "f_m.sort_values(by='importance', ascending=False)"
   ]
  },
  {
   "cell_type": "markdown",
   "metadata": {},
   "source": [
    "По модели самым важным признаком является возраст (0.24), по корреляции с оттоком это самый сильный показатель. "
   ]
  },
  {
   "cell_type": "markdown",
   "metadata": {
    "scrolled": true
   },
   "source": [
    "# Шаг 4. Сделаем кластеризацию клиентов"
   ]
  },
  {
   "cell_type": "code",
   "execution_count": 129,
   "metadata": {
    "scrolled": false
   },
   "outputs": [],
   "source": [
    "# стандартизируем данные\n",
    "sc = StandardScaler()\n",
    "x_sc = sc.fit_transform(X)\n",
    "#linked = linkage(x_sc, method = 'ward')\n",
    "#plt.figure(figsize=(15, 10))  \n",
    "#dendrogram(linked, orientation='top')\n",
    "#plt.title('Иерархическая кластеризация')\n",
    "#plt.show()\n",
    "# специально закоментил, долго ждать загрузки"
   ]
  },
  {
   "cell_type": "code",
   "execution_count": 130,
   "metadata": {
    "scrolled": false
   },
   "outputs": [],
   "source": [
    "# задаём модель k_means с числом кластеров 5 и фиксируем значение random_state\n",
    "km = KMeans(n_clusters = 5, random_state=0)\n",
    "labels = km.fit_predict(x_sc)\n",
    "df_clust_1 = df\n",
    "df_clust_1['cluster_km'] = labels"
   ]
  },
  {
   "cell_type": "code",
   "execution_count": 131,
   "metadata": {
    "scrolled": false
   },
   "outputs": [
    {
     "data": {
      "text/html": [
       "<div>\n",
       "<style scoped>\n",
       "    .dataframe tbody tr th:only-of-type {\n",
       "        vertical-align: middle;\n",
       "    }\n",
       "\n",
       "    .dataframe tbody tr th {\n",
       "        vertical-align: top;\n",
       "    }\n",
       "\n",
       "    .dataframe thead th {\n",
       "        text-align: right;\n",
       "    }\n",
       "</style>\n",
       "<table border=\"1\" class=\"dataframe\">\n",
       "  <thead>\n",
       "    <tr style=\"text-align: right;\">\n",
       "      <th></th>\n",
       "      <th>score</th>\n",
       "      <th>City</th>\n",
       "      <th>Gender</th>\n",
       "      <th>Age</th>\n",
       "      <th>Objects</th>\n",
       "      <th>Balance</th>\n",
       "      <th>Products</th>\n",
       "      <th>CreditCard</th>\n",
       "      <th>Loyalty</th>\n",
       "      <th>estimated_salary</th>\n",
       "      <th>Churn</th>\n",
       "    </tr>\n",
       "    <tr>\n",
       "      <th>cluster_km</th>\n",
       "      <th></th>\n",
       "      <th></th>\n",
       "      <th></th>\n",
       "      <th></th>\n",
       "      <th></th>\n",
       "      <th></th>\n",
       "      <th></th>\n",
       "      <th></th>\n",
       "      <th></th>\n",
       "      <th></th>\n",
       "      <th></th>\n",
       "    </tr>\n",
       "  </thead>\n",
       "  <tbody>\n",
       "    <tr>\n",
       "      <th>0</th>\n",
       "      <td>646.929187</td>\n",
       "      <td>0.248752</td>\n",
       "      <td>0.527916</td>\n",
       "      <td>37.326827</td>\n",
       "      <td>5.124376</td>\n",
       "      <td>119832.472648</td>\n",
       "      <td>1.495688</td>\n",
       "      <td>1.000000</td>\n",
       "      <td>0.453473</td>\n",
       "      <td>101177.573554</td>\n",
       "      <td>0.276441</td>\n",
       "    </tr>\n",
       "    <tr>\n",
       "      <th>1</th>\n",
       "      <td>651.334073</td>\n",
       "      <td>1.787045</td>\n",
       "      <td>0.564774</td>\n",
       "      <td>35.807897</td>\n",
       "      <td>5.066548</td>\n",
       "      <td>158782.805893</td>\n",
       "      <td>1.566548</td>\n",
       "      <td>0.980479</td>\n",
       "      <td>0.464064</td>\n",
       "      <td>146788.122742</td>\n",
       "      <td>0.145075</td>\n",
       "    </tr>\n",
       "    <tr>\n",
       "      <th>2</th>\n",
       "      <td>650.333333</td>\n",
       "      <td>1.752475</td>\n",
       "      <td>0.560585</td>\n",
       "      <td>35.878359</td>\n",
       "      <td>5.018859</td>\n",
       "      <td>69928.813235</td>\n",
       "      <td>1.592645</td>\n",
       "      <td>0.904290</td>\n",
       "      <td>0.506365</td>\n",
       "      <td>43496.821693</td>\n",
       "      <td>0.133428</td>\n",
       "    </tr>\n",
       "    <tr>\n",
       "      <th>3</th>\n",
       "      <td>652.825081</td>\n",
       "      <td>1.196429</td>\n",
       "      <td>0.542208</td>\n",
       "      <td>37.282873</td>\n",
       "      <td>4.911120</td>\n",
       "      <td>125780.453947</td>\n",
       "      <td>1.501218</td>\n",
       "      <td>0.000000</td>\n",
       "      <td>0.494724</td>\n",
       "      <td>106789.429067</td>\n",
       "      <td>0.210227</td>\n",
       "    </tr>\n",
       "    <tr>\n",
       "      <th>4</th>\n",
       "      <td>651.438413</td>\n",
       "      <td>1.319415</td>\n",
       "      <td>0.517745</td>\n",
       "      <td>60.869520</td>\n",
       "      <td>4.877871</td>\n",
       "      <td>116205.338037</td>\n",
       "      <td>1.460334</td>\n",
       "      <td>0.755741</td>\n",
       "      <td>0.848643</td>\n",
       "      <td>95784.826284</td>\n",
       "      <td>0.313152</td>\n",
       "    </tr>\n",
       "  </tbody>\n",
       "</table>\n",
       "</div>"
      ],
      "text/plain": [
       "                 score      City    Gender        Age   Objects  \\\n",
       "cluster_km                                                        \n",
       "0           646.929187  0.248752  0.527916  37.326827  5.124376   \n",
       "1           651.334073  1.787045  0.564774  35.807897  5.066548   \n",
       "2           650.333333  1.752475  0.560585  35.878359  5.018859   \n",
       "3           652.825081  1.196429  0.542208  37.282873  4.911120   \n",
       "4           651.438413  1.319415  0.517745  60.869520  4.877871   \n",
       "\n",
       "                  Balance  Products  CreditCard   Loyalty  estimated_salary  \\\n",
       "cluster_km                                                                    \n",
       "0           119832.472648  1.495688    1.000000  0.453473     101177.573554   \n",
       "1           158782.805893  1.566548    0.980479  0.464064     146788.122742   \n",
       "2            69928.813235  1.592645    0.904290  0.506365      43496.821693   \n",
       "3           125780.453947  1.501218    0.000000  0.494724     106789.429067   \n",
       "4           116205.338037  1.460334    0.755741  0.848643      95784.826284   \n",
       "\n",
       "               Churn  \n",
       "cluster_km            \n",
       "0           0.276441  \n",
       "1           0.145075  \n",
       "2           0.133428  \n",
       "3           0.210227  \n",
       "4           0.313152  "
      ]
     },
     "execution_count": 131,
     "metadata": {},
     "output_type": "execute_result"
    }
   ],
   "source": [
    "# выводим статистику по средним значениям наших признаков по кластеру\n",
    "df_clust_final = df_clust_1.copy(deep=True)\n",
    "df_clust_grouped_mean = df_clust_final.groupby('cluster_km').agg('mean')\n",
    "df_clust_grouped_mean"
   ]
  },
  {
   "cell_type": "code",
   "execution_count": 132,
   "metadata": {
    "scrolled": false
   },
   "outputs": [],
   "source": [
    "#Построим распределения признаков для кластеров\n",
    "binary_no = df.drop(columns =(['City','Gender', 'Objects', 'Products','CreditCard', 'Loyalty','Churn','cluster_km']))\n",
    "binary = df[['City','Gender', 'Objects', 'Products','CreditCard', 'Loyalty']]"
   ]
  },
  {
   "cell_type": "code",
   "execution_count": 133,
   "metadata": {
    "scrolled": false
   },
   "outputs": [
    {
     "data": {
      "image/png": "[encoded data removed]",
      "text/plain": [
       "<Figure size 720x432 with 1 Axes>"
      ]
     },
     "metadata": {
      "needs_background": "light"
     },
     "output_type": "display_data"
    },
    {
     "data": {
      "image/png": "[encoded data removed]",
      "text/plain": [
       "<Figure size 720x432 with 1 Axes>"
      ]
     },
     "metadata": {
      "needs_background": "light"
     },
     "output_type": "display_data"
    },
    {
     "data": {
      "image/png": "[encoded data removed]",
      "text/plain": [
       "<Figure size 720x432 with 1 Axes>"
      ]
     },
     "metadata": {
      "needs_background": "light"
     },
     "output_type": "display_data"
    },
    {
     "data": {
      "image/png": "[encoded data removed]",
      "text/plain": [
       "<Figure size 720x432 with 1 Axes>"
      ]
     },
     "metadata": {
      "needs_background": "light"
     },
     "output_type": "display_data"
    }
   ],
   "source": [
    "for col in binary_no:\n",
    "    plt.figure(figsize=(10, 6))\n",
    "    for i in range(0,5):\n",
    "        sns.distplot(df_clust_1.query('cluster_km == @i')[col],\n",
    "                    hist=False,\n",
    "                    #legend=True,\n",
    "                    kde_kws={'label':'Кластер'+ str(i)}) \n",
    "        plt.legend()        \n",
    "plt.tight_layout()"
   ]
  },
  {
   "cell_type": "code",
   "execution_count": 134,
   "metadata": {
    "scrolled": false
   },
   "outputs": [
    {
     "data": {
      "image/png": "[encoded data removed]",
      "text/plain": [
       "<Figure size 1080x864 with 6 Axes>"
      ]
     },
     "metadata": {
      "needs_background": "light"
     },
     "output_type": "display_data"
    }
   ],
   "source": [
    "plt.figure(figsize=(15,12))\n",
    "for i in range(len(binary.columns)):\n",
    "    plt.subplot(3,3,i+1)\n",
    "    x = df_clust_1['cluster_km']\n",
    "    y = binary.iloc[:,i]\n",
    "    sns.barplot(x=x, y=y)\n",
    "plt.tight_layout()\n",
    "plt.show()"
   ]
  },
  {
   "cell_type": "markdown",
   "metadata": {
    "scrolled": true
   },
   "source": [
    "Промежуточные результаты:  \n",
    "- повышенный отток наблюдается у 0 и 4-ого кластера\n",
    "- у нулевого кластера пользователи преимущественно из Ростова Великого с кредитными картами\n",
    "- у четвертого кластера пользователи преимущественно пожилые люди, с высоким  уровнем лояльности, но при этом самым высоким оттоком\n",
    "- у второго кластера сымый маленький отток, при этом самый низский доход и баланс на счете\n",
    "- у третьего кластера средний отток, при этом нет кредитной  карты"
   ]
  },
  {
   "cell_type": "markdown",
   "metadata": {
    "scrolled": true
   },
   "source": [
    "# Шаг 4. Проверим гипотезы\n",
    "\n",
    "## Средний доход между теми клиентами, которые ушли и теми, которые остались одинаковый"
   ]
  },
  {
   "cell_type": "markdown",
   "metadata": {},
   "source": [
    "Нулевая гипотеза: средний доход между теми клиентами, которые ушли и теми, которые остались одинаковый. Альтернативная гипотеза: средний доход между теми клиентами, которые ушли и теми, которые остались не одинаковый. Используем для двух генеральных совокупностей st.ttest_ind"
   ]
  },
  {
   "cell_type": "code",
   "execution_count": 135,
   "metadata": {
    "scrolled": false
   },
   "outputs": [
    {
     "data": {
      "image/png": "[encoded data removed]",
      "text/plain": [
       "<Figure size 432x288 with 1 Axes>"
      ]
     },
     "metadata": {
      "needs_background": "light"
     },
     "output_type": "display_data"
    }
   ],
   "source": [
    "df_churn = df.query('Churn == 1')\n",
    "df_no_churn = df.query('Churn == 0')\n",
    "df_no_churn['estimated_salary'].hist()\n",
    "df_churn['estimated_salary'].hist()\n",
    "plt.show()"
   ]
  },
  {
   "cell_type": "markdown",
   "metadata": {
    "scrolled": true
   },
   "source": [
    "Данные не распределены нормально, поэтому применяем тест Манна Уитни"
   ]
  },
  {
   "cell_type": "code",
   "execution_count": 136,
   "metadata": {
    "scrolled": false
   },
   "outputs": [
    {
     "name": "stdout",
     "output_type": "stream",
     "text": [
      "p-значение: 0.22705150930153783\n",
      "Не получилось отвергнуть нулевую гипотезу\n"
     ]
    }
   ],
   "source": [
    " alpha = 0.05 # задаем критический уровень статистической значимости\n",
    "\n",
    "result_fist = st.mannwhitneyu(df_no_churn['estimated_salary'], df_churn['estimated_salary'])\n",
    "\n",
    "print('p-значение:', result_fist.pvalue) # выведите на экран полученное p-значение)\n",
    "\n",
    "if result_fist.pvalue < alpha:# сравните p-значение с заданным критическим уровнем стат. значимости:\n",
    "    print(\"Отвергаем нулевую гипотезу\")\n",
    "else:\n",
    "    print(\"Не получилось отвергнуть нулевую гипотезу\")"
   ]
  },
  {
   "cell_type": "markdown",
   "metadata": {},
   "source": [
    "Средний доход ушедших и оставшихся с банком примерно одинаковый. Нулевую гипотезу не отвергаем"
   ]
  },
  {
   "cell_type": "markdown",
   "metadata": {},
   "source": [
    "## Средний возраст между теми клиентами, которые ушли и теми, которые остались одинаковый"
   ]
  },
  {
   "cell_type": "markdown",
   "metadata": {},
   "source": [
    "Нулевая гипотеза: средний возраст между теми клиентами, которые ушли и теми, которые остались одинаковый. Альтернативная гипотеза: средний возраст между теми клиентами, которые ушли и теми, которые остались не одинаковый. Используем для двух генеральных совокупностей st.ttest_ind"
   ]
  },
  {
   "cell_type": "code",
   "execution_count": 137,
   "metadata": {
    "scrolled": false
   },
   "outputs": [
    {
     "data": {
      "image/png": "[encoded data removed]",
      "text/plain": [
       "<Figure size 432x288 with 1 Axes>"
      ]
     },
     "metadata": {
      "needs_background": "light"
     },
     "output_type": "display_data"
    }
   ],
   "source": [
    "df_no_churn['Age'].hist()\n",
    "df_churn['Age'].hist()\n",
    "plt.show()"
   ]
  },
  {
   "cell_type": "markdown",
   "metadata": {},
   "source": [
    "Проверяем нанормальность распределения методом Шапиро-Уилка"
   ]
  },
  {
   "cell_type": "code",
   "execution_count": 138,
   "metadata": {
    "scrolled": false
   },
   "outputs": [
    {
     "data": {
      "text/plain": [
       "ShapiroResult(statistic=0.9977729916572571, pvalue=0.005956501234322786)"
      ]
     },
     "execution_count": 138,
     "metadata": {},
     "output_type": "execute_result"
    }
   ],
   "source": [
    "shapiro1 = st.shapiro(df_churn['Age'])\n",
    "shapiro1"
   ]
  },
  {
   "cell_type": "code",
   "execution_count": 139,
   "metadata": {
    "scrolled": false
   },
   "outputs": [
    {
     "name": "stderr",
     "output_type": "stream",
     "text": [
      "/opt/conda/lib/python3.9/site-packages/scipy/stats/_morestats.py:1761: UserWarning: p-value may not be accurate for N > 5000.\n",
      "  warnings.warn(\"p-value may not be accurate for N > 5000.\")\n"
     ]
    },
    {
     "data": {
      "text/plain": [
       "ShapiroResult(statistic=0.9062122106552124, pvalue=0.0)"
      ]
     },
     "execution_count": 139,
     "metadata": {},
     "output_type": "execute_result"
    }
   ],
   "source": [
    "shapiro2 = st.shapiro(df_no_churn['Age'])\n",
    "shapiro2"
   ]
  },
  {
   "cell_type": "markdown",
   "metadata": {},
   "source": [
    "Гистограмма с оттоковыми пользователями распределена хуже чем у клиентов банка, поэтому так же применяем тест Манна Уитни"
   ]
  },
  {
   "cell_type": "code",
   "execution_count": 140,
   "metadata": {
    "scrolled": false
   },
   "outputs": [
    {
     "name": "stdout",
     "output_type": "stream",
     "text": [
      "p-значение: 3.2104014319371675e-230\n",
      "Отвергаем нулевую гипотезу\n"
     ]
    }
   ],
   "source": [
    " \n",
    "alpha = 0.05 # задаем критический уровень статистической значимости\n",
    "\n",
    "result_fist = st.mannwhitneyu(df_no_churn['Age'], df_churn['Age'])\n",
    "\n",
    "print('p-значение:', result_fist.pvalue) # выведите на экран полученное p-значение)\n",
    "\n",
    "if result_fist.pvalue < alpha:# сравните p-значение с заданным критическим уровнем стат. значимости:\n",
    "    print(\"Отвергаем нулевую гипотезу\")\n",
    "else:\n",
    "    print(\"Не получилось отвергнуть нулевую гипотезу\")"
   ]
  },
  {
   "cell_type": "markdown",
   "metadata": {
    "scrolled": true
   },
   "source": [
    "А вот средний возраст пользователей оттока не совпадает с возрастом оставшихся, что в лишний раз подтверждает наши результаты."
   ]
  },
  {
   "cell_type": "markdown",
   "metadata": {
    "scrolled": true
   },
   "source": [
    "#  Шаг 5. Сформулируем выводы и сделаем базовые рекомендации по работе с клиентами"
   ]
  },
  {
   "cell_type": "markdown",
   "metadata": {
    "scrolled": true
   },
   "source": [
    "Стоит обратить большее внимание на более взрослую аудиторию, людей старше 60 лет, в частности женского пола, так как этот признак самый влиятельный на отток. Возможно им стоит предложить более лучшие условия тарифа, скидки. Например можно предложить им бесплатное обслуживание дебетовой карты или более лучшие условия кредитки. Так же большой отток показывают клиенты из Ростова Великого с кредитными картами, возможно они столкнулись с какой то технической ошибкой. Нужно проверить обращения в тех поддержку из этого города. Еще большой отток у клиентов, которые имеют один продукт и это кредитная карта. Таким клиентам стоит предложить дебетовую карту или более лучшие условия тарифа кредитной карты. Самый маленький отток у клиентов с низким доходом и балансом на счете, от таких клиентов банк получает мало прибыли. Банку нужно поменять вектор развития стратегии на более состоятельную аудиторию, повысить их лояльность.   "
   ]
  }
 ],
 "metadata": {
  "ExecuteTimeLog": [
   {
    "duration": 1682,
    "start_time": "2022-06-28T14:24:58.420Z"
   },
   {
    "duration": 10,
    "start_time": "2022-06-28T14:25:51.938Z"
   },
   {
    "duration": 23,
    "start_time": "2022-06-28T14:26:28.450Z"
   },
   {
    "duration": 6,
    "start_time": "2022-06-28T14:45:49.681Z"
   },
   {
    "duration": 22,
    "start_time": "2022-06-28T14:46:02.640Z"
   },
   {
    "duration": 13,
    "start_time": "2022-06-28T14:47:28.667Z"
   },
   {
    "duration": 12,
    "start_time": "2022-06-28T14:48:26.915Z"
   },
   {
    "duration": 36,
    "start_time": "2022-06-28T14:49:26.512Z"
   },
   {
    "duration": 15,
    "start_time": "2022-06-28T14:51:46.546Z"
   },
   {
    "duration": 55,
    "start_time": "2022-06-28T14:59:48.131Z"
   },
   {
    "duration": 44,
    "start_time": "2022-06-28T15:00:10.547Z"
   },
   {
    "duration": 10,
    "start_time": "2022-06-28T15:00:10.593Z"
   },
   {
    "duration": 9,
    "start_time": "2022-06-28T15:00:10.605Z"
   },
   {
    "duration": 9,
    "start_time": "2022-06-28T15:00:10.616Z"
   },
   {
    "duration": 22,
    "start_time": "2022-06-28T15:00:10.628Z"
   },
   {
    "duration": 5,
    "start_time": "2022-06-28T15:00:10.651Z"
   },
   {
    "duration": 40,
    "start_time": "2022-06-28T15:00:10.657Z"
   },
   {
    "duration": 33,
    "start_time": "2022-06-28T15:00:10.698Z"
   },
   {
    "duration": 66,
    "start_time": "2022-06-28T15:00:10.732Z"
   },
   {
    "duration": 51,
    "start_time": "2022-06-28T15:00:31.472Z"
   },
   {
    "duration": 99,
    "start_time": "2022-06-28T15:01:15.480Z"
   },
   {
    "duration": 1053,
    "start_time": "2022-06-28T15:01:59.077Z"
   },
   {
    "duration": 1554,
    "start_time": "2022-06-28T15:07:49.769Z"
   },
   {
    "duration": 49,
    "start_time": "2022-06-28T15:08:35.267Z"
   },
   {
    "duration": 207,
    "start_time": "2022-06-28T15:08:41.751Z"
   },
   {
    "duration": 40,
    "start_time": "2022-06-28T15:09:08.526Z"
   },
   {
    "duration": 314,
    "start_time": "2022-06-28T15:11:50.275Z"
   },
   {
    "duration": 1247,
    "start_time": "2022-06-28T15:12:01.253Z"
   },
   {
    "duration": 1270,
    "start_time": "2022-06-28T15:12:40.637Z"
   },
   {
    "duration": 1413,
    "start_time": "2022-06-28T15:12:58.576Z"
   },
   {
    "duration": 330,
    "start_time": "2022-06-28T15:14:42.709Z"
   },
   {
    "duration": 1269,
    "start_time": "2022-06-28T15:14:48.882Z"
   },
   {
    "duration": 8,
    "start_time": "2022-06-28T15:16:01.465Z"
   },
   {
    "duration": 1015,
    "start_time": "2022-06-28T15:17:31.582Z"
   },
   {
    "duration": 1107,
    "start_time": "2022-06-28T15:18:07.165Z"
   },
   {
    "duration": 43,
    "start_time": "2022-06-28T15:20:14.102Z"
   },
   {
    "duration": 11,
    "start_time": "2022-06-28T15:20:14.147Z"
   },
   {
    "duration": 20,
    "start_time": "2022-06-28T15:20:14.160Z"
   },
   {
    "duration": 14,
    "start_time": "2022-06-28T15:20:14.181Z"
   },
   {
    "duration": 36,
    "start_time": "2022-06-28T15:20:14.197Z"
   },
   {
    "duration": 5,
    "start_time": "2022-06-28T15:20:14.234Z"
   },
   {
    "duration": 57,
    "start_time": "2022-06-28T15:20:14.241Z"
   },
   {
    "duration": 14,
    "start_time": "2022-06-28T15:20:14.299Z"
   },
   {
    "duration": 1246,
    "start_time": "2022-06-28T15:20:14.314Z"
   },
   {
    "duration": 1370,
    "start_time": "2022-06-28T15:20:15.561Z"
   },
   {
    "duration": 6,
    "start_time": "2022-06-28T15:20:16.932Z"
   },
   {
    "duration": 1477,
    "start_time": "2022-06-28T15:21:02.068Z"
   },
   {
    "duration": 1050,
    "start_time": "2022-06-28T15:21:55.923Z"
   },
   {
    "duration": 18,
    "start_time": "2022-06-28T15:38:25.874Z"
   },
   {
    "duration": 24,
    "start_time": "2022-06-28T15:38:32.484Z"
   },
   {
    "duration": 10,
    "start_time": "2022-06-28T15:38:47.077Z"
   },
   {
    "duration": 9,
    "start_time": "2022-06-28T15:38:56.819Z"
   },
   {
    "duration": 9,
    "start_time": "2022-06-28T15:42:28.313Z"
   },
   {
    "duration": 9,
    "start_time": "2022-06-28T15:42:53.225Z"
   },
   {
    "duration": 8,
    "start_time": "2022-06-28T15:43:26.587Z"
   },
   {
    "duration": 42,
    "start_time": "2022-06-28T15:43:34.881Z"
   },
   {
    "duration": 11,
    "start_time": "2022-06-28T15:43:34.925Z"
   },
   {
    "duration": 17,
    "start_time": "2022-06-28T15:43:34.937Z"
   },
   {
    "duration": 18,
    "start_time": "2022-06-28T15:43:34.956Z"
   },
   {
    "duration": 26,
    "start_time": "2022-06-28T15:43:34.976Z"
   },
   {
    "duration": 5,
    "start_time": "2022-06-28T15:43:35.004Z"
   },
   {
    "duration": 50,
    "start_time": "2022-06-28T15:43:35.011Z"
   },
   {
    "duration": 13,
    "start_time": "2022-06-28T15:43:35.062Z"
   },
   {
    "duration": 1047,
    "start_time": "2022-06-28T15:43:35.077Z"
   },
   {
    "duration": 1296,
    "start_time": "2022-06-28T15:43:36.126Z"
   },
   {
    "duration": 1001,
    "start_time": "2022-06-28T15:43:37.426Z"
   },
   {
    "duration": 13,
    "start_time": "2022-06-28T15:43:38.429Z"
   },
   {
    "duration": 5,
    "start_time": "2022-06-28T15:44:25.478Z"
   },
   {
    "duration": 5,
    "start_time": "2022-06-28T15:44:36.185Z"
   },
   {
    "duration": 9,
    "start_time": "2022-06-28T15:44:49.089Z"
   },
   {
    "duration": 1229,
    "start_time": "2022-06-28T15:45:32.400Z"
   },
   {
    "duration": 1221,
    "start_time": "2022-06-28T15:45:43.499Z"
   },
   {
    "duration": 20639,
    "start_time": "2022-06-28T15:45:51.206Z"
   },
   {
    "duration": 9,
    "start_time": "2022-06-28T15:46:23.506Z"
   },
   {
    "duration": 2446,
    "start_time": "2022-06-28T15:47:01.027Z"
   },
   {
    "duration": 53,
    "start_time": "2022-06-28T15:49:02.832Z"
   },
   {
    "duration": 10,
    "start_time": "2022-06-28T15:49:02.887Z"
   },
   {
    "duration": 22,
    "start_time": "2022-06-28T15:49:02.899Z"
   },
   {
    "duration": 15,
    "start_time": "2022-06-28T15:49:02.922Z"
   },
   {
    "duration": 39,
    "start_time": "2022-06-28T15:49:02.938Z"
   },
   {
    "duration": 5,
    "start_time": "2022-06-28T15:49:02.979Z"
   },
   {
    "duration": 54,
    "start_time": "2022-06-28T15:49:02.986Z"
   },
   {
    "duration": 14,
    "start_time": "2022-06-28T15:49:03.041Z"
   },
   {
    "duration": 1101,
    "start_time": "2022-06-28T15:49:03.056Z"
   },
   {
    "duration": 1375,
    "start_time": "2022-06-28T15:49:04.159Z"
   },
   {
    "duration": 891,
    "start_time": "2022-06-28T15:49:05.535Z"
   },
   {
    "duration": 9,
    "start_time": "2022-06-28T15:49:06.428Z"
   },
   {
    "duration": 11,
    "start_time": "2022-06-28T15:49:31.266Z"
   },
   {
    "duration": 10,
    "start_time": "2022-06-28T15:49:36.186Z"
   },
   {
    "duration": 10,
    "start_time": "2022-06-28T15:49:39.672Z"
   },
   {
    "duration": 9,
    "start_time": "2022-06-28T16:01:57.225Z"
   },
   {
    "duration": 23,
    "start_time": "2022-06-28T16:02:02.777Z"
   },
   {
    "duration": 112,
    "start_time": "2022-06-28T16:04:46.486Z"
   },
   {
    "duration": 15,
    "start_time": "2022-06-28T16:05:16.666Z"
   },
   {
    "duration": 87,
    "start_time": "2022-06-28T16:05:44.449Z"
   },
   {
    "duration": 19,
    "start_time": "2022-06-28T16:06:18.831Z"
   },
   {
    "duration": 17,
    "start_time": "2022-06-28T16:07:26.174Z"
   },
   {
    "duration": 12,
    "start_time": "2022-06-28T16:07:47.816Z"
   },
   {
    "duration": 1551,
    "start_time": "2022-06-29T13:11:31.472Z"
   },
   {
    "duration": 12,
    "start_time": "2022-06-29T13:11:33.025Z"
   },
   {
    "duration": 9,
    "start_time": "2022-06-29T13:11:33.038Z"
   },
   {
    "duration": 8,
    "start_time": "2022-06-29T13:11:33.049Z"
   },
   {
    "duration": 20,
    "start_time": "2022-06-29T13:11:33.058Z"
   },
   {
    "duration": 5,
    "start_time": "2022-06-29T13:11:33.080Z"
   },
   {
    "duration": 36,
    "start_time": "2022-06-29T13:11:33.086Z"
   },
   {
    "duration": 39,
    "start_time": "2022-06-29T13:11:33.123Z"
   },
   {
    "duration": 1103,
    "start_time": "2022-06-29T13:11:33.163Z"
   },
   {
    "duration": 1259,
    "start_time": "2022-06-29T13:11:34.268Z"
   },
   {
    "duration": 848,
    "start_time": "2022-06-29T13:11:35.529Z"
   },
   {
    "duration": 12,
    "start_time": "2022-06-29T13:11:36.379Z"
   },
   {
    "duration": 12,
    "start_time": "2022-06-29T13:12:30.372Z"
   },
   {
    "duration": 12,
    "start_time": "2022-06-29T13:12:45.192Z"
   },
   {
    "duration": 100,
    "start_time": "2022-06-29T13:14:47.411Z"
   },
   {
    "duration": 18,
    "start_time": "2022-06-29T13:14:57.211Z"
   },
   {
    "duration": 7,
    "start_time": "2022-06-29T13:15:10.740Z"
   },
   {
    "duration": 9,
    "start_time": "2022-06-29T13:17:02.115Z"
   },
   {
    "duration": 15,
    "start_time": "2022-06-29T13:17:06.054Z"
   },
   {
    "duration": 5,
    "start_time": "2022-06-29T13:17:12.806Z"
   },
   {
    "duration": 7,
    "start_time": "2022-06-29T13:33:42.572Z"
   },
   {
    "duration": 175,
    "start_time": "2022-06-29T13:34:54.598Z"
   },
   {
    "duration": 469,
    "start_time": "2022-06-29T13:35:08.989Z"
   },
   {
    "duration": 4,
    "start_time": "2022-06-29T13:35:11.713Z"
   },
   {
    "duration": 372,
    "start_time": "2022-06-29T13:35:23.482Z"
   },
   {
    "duration": 1131,
    "start_time": "2022-06-29T13:36:01.122Z"
   },
   {
    "duration": 1132,
    "start_time": "2022-06-29T13:42:57.633Z"
   },
   {
    "duration": 1131,
    "start_time": "2022-06-29T13:43:02.642Z"
   },
   {
    "duration": 1099,
    "start_time": "2022-06-29T13:43:06.444Z"
   },
   {
    "duration": 1066,
    "start_time": "2022-06-29T13:43:15.468Z"
   },
   {
    "duration": 1085,
    "start_time": "2022-06-29T13:43:21.222Z"
   },
   {
    "duration": 20,
    "start_time": "2022-06-29T13:45:43.070Z"
   },
   {
    "duration": 44,
    "start_time": "2022-06-29T13:50:30.970Z"
   },
   {
    "duration": 17,
    "start_time": "2022-06-29T13:50:31.017Z"
   },
   {
    "duration": 12,
    "start_time": "2022-06-29T13:50:31.036Z"
   },
   {
    "duration": 27,
    "start_time": "2022-06-29T13:50:31.050Z"
   },
   {
    "duration": 32,
    "start_time": "2022-06-29T13:50:31.078Z"
   },
   {
    "duration": 6,
    "start_time": "2022-06-29T13:50:31.111Z"
   },
   {
    "duration": 51,
    "start_time": "2022-06-29T13:50:31.119Z"
   },
   {
    "duration": 16,
    "start_time": "2022-06-29T13:50:31.171Z"
   },
   {
    "duration": 1301,
    "start_time": "2022-06-29T13:50:31.188Z"
   },
   {
    "duration": 1247,
    "start_time": "2022-06-29T13:50:32.492Z"
   },
   {
    "duration": 859,
    "start_time": "2022-06-29T13:50:33.741Z"
   },
   {
    "duration": 12,
    "start_time": "2022-06-29T13:50:34.602Z"
   },
   {
    "duration": 12,
    "start_time": "2022-06-29T13:50:34.615Z"
   },
   {
    "duration": 30,
    "start_time": "2022-06-29T13:50:34.629Z"
   },
   {
    "duration": 5,
    "start_time": "2022-06-29T13:50:34.661Z"
   },
   {
    "duration": 591,
    "start_time": "2022-06-29T13:50:34.668Z"
   },
   {
    "duration": 91,
    "start_time": "2022-06-29T13:50:35.261Z"
   },
   {
    "duration": 1069,
    "start_time": "2022-06-29T13:50:35.354Z"
   },
   {
    "duration": 26,
    "start_time": "2022-06-29T13:50:36.425Z"
   },
   {
    "duration": 596,
    "start_time": "2022-06-29T13:51:15.855Z"
   },
   {
    "duration": 985,
    "start_time": "2022-06-29T13:51:39.342Z"
   },
   {
    "duration": 6,
    "start_time": "2022-06-29T13:51:51.070Z"
   },
   {
    "duration": 978,
    "start_time": "2022-06-29T13:51:57.467Z"
   },
   {
    "duration": 1029,
    "start_time": "2022-06-29T13:52:01.106Z"
   },
   {
    "duration": 17,
    "start_time": "2022-06-29T13:52:13.766Z"
   },
   {
    "duration": 14,
    "start_time": "2022-06-29T13:52:15.666Z"
   },
   {
    "duration": 51,
    "start_time": "2022-06-29T13:52:18.300Z"
   },
   {
    "duration": 13,
    "start_time": "2022-06-29T13:52:18.353Z"
   },
   {
    "duration": 12,
    "start_time": "2022-06-29T13:52:18.367Z"
   },
   {
    "duration": 8,
    "start_time": "2022-06-29T13:52:18.381Z"
   },
   {
    "duration": 31,
    "start_time": "2022-06-29T13:52:18.391Z"
   },
   {
    "duration": 28,
    "start_time": "2022-06-29T13:52:18.424Z"
   },
   {
    "duration": 45,
    "start_time": "2022-06-29T13:52:18.453Z"
   },
   {
    "duration": 14,
    "start_time": "2022-06-29T13:52:18.500Z"
   },
   {
    "duration": 1232,
    "start_time": "2022-06-29T13:52:18.515Z"
   },
   {
    "duration": 1328,
    "start_time": "2022-06-29T13:52:19.751Z"
   },
   {
    "duration": 827,
    "start_time": "2022-06-29T13:52:21.080Z"
   },
   {
    "duration": 14,
    "start_time": "2022-06-29T13:52:21.909Z"
   },
   {
    "duration": 32,
    "start_time": "2022-06-29T13:52:21.924Z"
   },
   {
    "duration": 15,
    "start_time": "2022-06-29T13:52:21.957Z"
   },
   {
    "duration": 7,
    "start_time": "2022-06-29T13:52:21.974Z"
   },
   {
    "duration": 571,
    "start_time": "2022-06-29T13:52:21.983Z"
   },
   {
    "duration": 5,
    "start_time": "2022-06-29T13:52:22.557Z"
   },
   {
    "duration": 1207,
    "start_time": "2022-06-29T13:52:22.564Z"
   },
   {
    "duration": 19,
    "start_time": "2022-06-29T13:52:23.773Z"
   },
   {
    "duration": 266092,
    "start_time": "2022-06-29T13:53:38.794Z"
   },
   {
    "duration": 2004,
    "start_time": "2022-06-29T14:03:07.669Z"
   },
   {
    "duration": 17,
    "start_time": "2022-06-29T14:03:17.549Z"
   },
   {
    "duration": 13,
    "start_time": "2022-06-29T14:19:57.800Z"
   },
   {
    "duration": 5,
    "start_time": "2022-06-29T14:25:34.818Z"
   },
   {
    "duration": 5,
    "start_time": "2022-06-29T14:33:28.513Z"
   },
   {
    "duration": 3422,
    "start_time": "2022-06-29T14:33:35.913Z"
   },
   {
    "duration": 3983,
    "start_time": "2022-06-29T14:34:42.642Z"
   },
   {
    "duration": 3692,
    "start_time": "2022-06-29T14:35:32.836Z"
   },
   {
    "duration": 1518,
    "start_time": "2022-06-29T14:36:45.037Z"
   },
   {
    "duration": 3301,
    "start_time": "2022-06-29T14:38:59.926Z"
   },
   {
    "duration": 2699,
    "start_time": "2022-06-29T14:39:17.609Z"
   },
   {
    "duration": 3264,
    "start_time": "2022-06-29T14:39:40.559Z"
   },
   {
    "duration": 6,
    "start_time": "2022-06-29T14:47:43.900Z"
   },
   {
    "duration": 7,
    "start_time": "2022-06-29T14:47:58.818Z"
   },
   {
    "duration": 7,
    "start_time": "2022-06-29T14:48:00.652Z"
   },
   {
    "duration": 36,
    "start_time": "2022-06-29T14:49:43.034Z"
   },
   {
    "duration": 10,
    "start_time": "2022-06-29T14:49:49.990Z"
   },
   {
    "duration": 11,
    "start_time": "2022-06-29T14:50:06.860Z"
   },
   {
    "duration": 82,
    "start_time": "2022-06-29T14:50:43.258Z"
   },
   {
    "duration": 10,
    "start_time": "2022-06-29T14:50:55.555Z"
   },
   {
    "duration": 185,
    "start_time": "2022-06-29T14:50:59.127Z"
   },
   {
    "duration": 6,
    "start_time": "2022-06-29T14:51:19.378Z"
   },
   {
    "duration": 158,
    "start_time": "2022-06-29T14:52:22.056Z"
   },
   {
    "duration": 168,
    "start_time": "2022-06-29T14:52:49.523Z"
   },
   {
    "duration": 218,
    "start_time": "2022-06-29T14:54:48.829Z"
   },
   {
    "duration": 1308,
    "start_time": "2022-06-29T14:54:52.493Z"
   },
   {
    "duration": 377,
    "start_time": "2022-06-29T14:54:57.184Z"
   },
   {
    "duration": 186,
    "start_time": "2022-06-29T14:55:10.359Z"
   },
   {
    "duration": 8,
    "start_time": "2022-06-29T14:55:23.562Z"
   },
   {
    "duration": 12,
    "start_time": "2022-06-29T15:13:51.859Z"
   },
   {
    "duration": 5,
    "start_time": "2022-06-29T15:14:09.871Z"
   },
   {
    "duration": 1142,
    "start_time": "2022-06-29T15:14:12.760Z"
   },
   {
    "duration": 15,
    "start_time": "2022-06-29T15:14:28.557Z"
   },
   {
    "duration": 5,
    "start_time": "2022-06-29T15:14:36.930Z"
   },
   {
    "duration": 1119,
    "start_time": "2022-06-29T15:14:39.618Z"
   },
   {
    "duration": 37,
    "start_time": "2022-06-29T15:15:16.690Z"
   },
   {
    "duration": 36,
    "start_time": "2022-06-29T15:15:37.290Z"
   },
   {
    "duration": 29,
    "start_time": "2022-06-29T15:15:46.251Z"
   },
   {
    "duration": 3,
    "start_time": "2022-06-29T15:15:51.390Z"
   },
   {
    "duration": 29,
    "start_time": "2022-06-29T15:15:53.742Z"
   },
   {
    "duration": 12,
    "start_time": "2022-06-29T15:21:31.152Z"
   },
   {
    "duration": 8,
    "start_time": "2022-06-29T15:21:33.322Z"
   },
   {
    "duration": 7,
    "start_time": "2022-06-29T15:21:36.844Z"
   },
   {
    "duration": 19,
    "start_time": "2022-06-29T15:21:39.740Z"
   },
   {
    "duration": 20,
    "start_time": "2022-06-29T15:22:00.439Z"
   },
   {
    "duration": 15,
    "start_time": "2022-06-29T15:24:46.730Z"
   },
   {
    "duration": 24,
    "start_time": "2022-06-29T15:24:54.478Z"
   },
   {
    "duration": 35,
    "start_time": "2022-06-29T15:25:52.042Z"
   },
   {
    "duration": 14,
    "start_time": "2022-06-29T15:26:16.176Z"
   },
   {
    "duration": 17,
    "start_time": "2022-06-29T15:27:47.033Z"
   },
   {
    "duration": 16,
    "start_time": "2022-06-29T15:28:04.978Z"
   },
   {
    "duration": 15,
    "start_time": "2022-06-29T15:28:20.675Z"
   },
   {
    "duration": 16,
    "start_time": "2022-06-29T15:28:58.318Z"
   },
   {
    "duration": 15,
    "start_time": "2022-06-29T15:29:05.671Z"
   },
   {
    "duration": 16,
    "start_time": "2022-06-29T15:29:35.885Z"
   },
   {
    "duration": 14,
    "start_time": "2022-06-29T15:29:40.792Z"
   },
   {
    "duration": 16,
    "start_time": "2022-06-29T15:29:57.649Z"
   },
   {
    "duration": 22,
    "start_time": "2022-06-29T15:30:37.686Z"
   },
   {
    "duration": 13,
    "start_time": "2022-06-29T15:32:45.287Z"
   },
   {
    "duration": 13,
    "start_time": "2022-06-29T15:33:10.375Z"
   },
   {
    "duration": 1005,
    "start_time": "2022-06-29T15:36:28.685Z"
   },
   {
    "duration": 1574,
    "start_time": "2022-06-29T15:37:01.250Z"
   },
   {
    "duration": 808,
    "start_time": "2022-06-29T15:38:18.182Z"
   },
   {
    "duration": 1830,
    "start_time": "2022-06-29T15:40:10.285Z"
   },
   {
    "duration": 22,
    "start_time": "2022-06-29T15:41:45.127Z"
   },
   {
    "duration": 21,
    "start_time": "2022-06-29T15:42:05.955Z"
   },
   {
    "duration": 825,
    "start_time": "2022-06-29T15:42:58.238Z"
   },
   {
    "duration": 678,
    "start_time": "2022-06-29T15:52:13.876Z"
   },
   {
    "duration": 1703,
    "start_time": "2022-06-29T19:35:17.767Z"
   },
   {
    "duration": 81,
    "start_time": "2022-06-29T19:35:20.273Z"
   },
   {
    "duration": 111,
    "start_time": "2022-06-29T19:35:44.822Z"
   },
   {
    "duration": 152,
    "start_time": "2022-06-29T19:35:50.009Z"
   },
   {
    "duration": 154,
    "start_time": "2022-06-29T19:36:18.324Z"
   },
   {
    "duration": 129,
    "start_time": "2022-06-29T19:36:50.815Z"
   },
   {
    "duration": 1225,
    "start_time": "2022-06-29T19:37:58.362Z"
   },
   {
    "duration": 149,
    "start_time": "2022-06-29T19:38:05.310Z"
   },
   {
    "duration": 235,
    "start_time": "2022-06-29T19:38:34.281Z"
   },
   {
    "duration": 24,
    "start_time": "2022-06-29T19:39:05.584Z"
   },
   {
    "duration": 39,
    "start_time": "2022-06-29T19:39:46.755Z"
   },
   {
    "duration": 13,
    "start_time": "2022-06-29T19:42:03.474Z"
   },
   {
    "duration": 25,
    "start_time": "2022-06-29T19:42:44.426Z"
   },
   {
    "duration": 25,
    "start_time": "2022-06-29T19:43:43.506Z"
   },
   {
    "duration": 24,
    "start_time": "2022-06-29T19:43:59.458Z"
   },
   {
    "duration": 10,
    "start_time": "2022-06-29T19:44:27.245Z"
   },
   {
    "duration": 9,
    "start_time": "2022-06-29T19:44:55.185Z"
   },
   {
    "duration": 11,
    "start_time": "2022-06-29T19:45:11.746Z"
   },
   {
    "duration": 28,
    "start_time": "2022-06-29T19:50:18.581Z"
   },
   {
    "duration": 11,
    "start_time": "2022-06-29T19:50:28.123Z"
   },
   {
    "duration": 10,
    "start_time": "2022-06-29T19:50:53.771Z"
   },
   {
    "duration": 11,
    "start_time": "2022-06-29T19:51:05.345Z"
   },
   {
    "duration": 9,
    "start_time": "2022-06-29T19:51:24.305Z"
   },
   {
    "duration": 4,
    "start_time": "2022-06-29T19:51:36.992Z"
   },
   {
    "duration": 32,
    "start_time": "2022-06-29T19:51:39.381Z"
   },
   {
    "duration": 11,
    "start_time": "2022-06-29T19:51:43.174Z"
   },
   {
    "duration": 205,
    "start_time": "2022-06-29T20:05:32.473Z"
   },
   {
    "duration": 172,
    "start_time": "2022-06-29T20:05:49.168Z"
   },
   {
    "duration": 144,
    "start_time": "2022-06-29T20:06:17.907Z"
   },
   {
    "duration": 206,
    "start_time": "2022-06-29T20:06:39.003Z"
   },
   {
    "duration": 34,
    "start_time": "2022-06-29T20:14:59.147Z"
   },
   {
    "duration": 26,
    "start_time": "2022-06-29T20:15:17.122Z"
   },
   {
    "duration": 26,
    "start_time": "2022-06-29T20:15:22.693Z"
   },
   {
    "duration": 29,
    "start_time": "2022-06-29T20:15:25.667Z"
   },
   {
    "duration": 24,
    "start_time": "2022-06-29T20:15:36.057Z"
   },
   {
    "duration": 6,
    "start_time": "2022-06-29T20:16:20.411Z"
   },
   {
    "duration": 3,
    "start_time": "2022-06-29T20:16:34.023Z"
   },
   {
    "duration": 11,
    "start_time": "2022-06-29T20:16:50.976Z"
   },
   {
    "duration": 3,
    "start_time": "2022-06-29T20:17:02.134Z"
   },
   {
    "duration": 7,
    "start_time": "2022-06-29T20:17:06.874Z"
   },
   {
    "duration": 19,
    "start_time": "2022-06-29T20:17:19.986Z"
   },
   {
    "duration": 20,
    "start_time": "2022-06-29T20:28:45.759Z"
   },
   {
    "duration": 178,
    "start_time": "2022-06-29T20:29:06.434Z"
   },
   {
    "duration": 173,
    "start_time": "2022-06-29T20:29:32.886Z"
   },
   {
    "duration": 140,
    "start_time": "2022-06-29T20:29:46.787Z"
   },
   {
    "duration": 161,
    "start_time": "2022-06-29T20:30:03.033Z"
   },
   {
    "duration": 5,
    "start_time": "2022-06-29T20:34:02.165Z"
   },
   {
    "duration": 52,
    "start_time": "2022-06-29T20:34:02.172Z"
   },
   {
    "duration": 15,
    "start_time": "2022-06-29T20:34:02.226Z"
   },
   {
    "duration": 29,
    "start_time": "2022-06-29T20:34:02.243Z"
   },
   {
    "duration": 10,
    "start_time": "2022-06-29T20:34:02.274Z"
   },
   {
    "duration": 15,
    "start_time": "2022-06-29T20:34:02.286Z"
   },
   {
    "duration": 28,
    "start_time": "2022-06-29T20:34:02.303Z"
   },
   {
    "duration": 34,
    "start_time": "2022-06-29T20:34:02.333Z"
   },
   {
    "duration": 56,
    "start_time": "2022-06-29T20:34:02.370Z"
   },
   {
    "duration": 17,
    "start_time": "2022-06-29T20:34:02.429Z"
   },
   {
    "duration": 908,
    "start_time": "2022-06-29T20:34:02.449Z"
   },
   {
    "duration": 2306,
    "start_time": "2022-06-29T20:34:03.368Z"
   },
   {
    "duration": 1117,
    "start_time": "2022-06-29T20:34:05.676Z"
   },
   {
    "duration": 9,
    "start_time": "2022-06-29T20:34:06.797Z"
   },
   {
    "duration": 6,
    "start_time": "2022-06-29T20:34:06.808Z"
   },
   {
    "duration": 1120,
    "start_time": "2022-06-29T20:34:06.816Z"
   },
   {
    "duration": 31,
    "start_time": "2022-06-29T20:34:07.938Z"
   },
   {
    "duration": 286725,
    "start_time": "2022-06-29T20:34:07.970Z"
   },
   {
    "duration": 2915,
    "start_time": "2022-06-29T20:38:54.698Z"
   },
   {
    "duration": 19,
    "start_time": "2022-06-29T20:38:57.615Z"
   },
   {
    "duration": 6,
    "start_time": "2022-06-29T20:38:57.635Z"
   },
   {
    "duration": 4542,
    "start_time": "2022-06-29T20:38:57.643Z"
   },
   {
    "duration": 1852,
    "start_time": "2022-06-29T20:39:02.187Z"
   },
   {
    "duration": 191,
    "start_time": "2022-06-29T20:39:04.041Z"
   },
   {
    "duration": 7,
    "start_time": "2022-06-29T20:39:04.234Z"
   },
   {
    "duration": 180,
    "start_time": "2022-06-29T20:39:04.243Z"
   },
   {
    "duration": 7,
    "start_time": "2022-06-29T20:39:04.425Z"
   },
   {
    "duration": 6,
    "start_time": "2022-06-29T20:39:31.470Z"
   },
   {
    "duration": 5,
    "start_time": "2022-06-29T20:39:42.515Z"
   },
   {
    "duration": 5,
    "start_time": "2022-06-29T20:40:18.481Z"
   },
   {
    "duration": 2815,
    "start_time": "2022-06-29T20:40:21.777Z"
   },
   {
    "duration": 116,
    "start_time": "2022-06-30T11:25:04.428Z"
   },
   {
    "duration": 1547,
    "start_time": "2022-06-30T11:38:42.473Z"
   },
   {
    "duration": 166,
    "start_time": "2022-06-30T11:38:44.383Z"
   },
   {
    "duration": 4,
    "start_time": "2022-06-30T11:39:21.296Z"
   },
   {
    "duration": 49,
    "start_time": "2022-06-30T11:39:21.302Z"
   },
   {
    "duration": 16,
    "start_time": "2022-06-30T11:39:21.353Z"
   },
   {
    "duration": 13,
    "start_time": "2022-06-30T11:39:21.371Z"
   },
   {
    "duration": 7,
    "start_time": "2022-06-30T11:39:21.386Z"
   },
   {
    "duration": 7,
    "start_time": "2022-06-30T11:39:21.394Z"
   },
   {
    "duration": 19,
    "start_time": "2022-06-30T11:39:21.402Z"
   },
   {
    "duration": 10,
    "start_time": "2022-06-30T11:39:21.455Z"
   },
   {
    "duration": 38,
    "start_time": "2022-06-30T11:39:21.467Z"
   },
   {
    "duration": 14,
    "start_time": "2022-06-30T11:39:21.507Z"
   },
   {
    "duration": 771,
    "start_time": "2022-06-30T11:39:21.522Z"
   },
   {
    "duration": 2140,
    "start_time": "2022-06-30T11:39:22.295Z"
   },
   {
    "duration": 991,
    "start_time": "2022-06-30T11:39:24.437Z"
   },
   {
    "duration": 9,
    "start_time": "2022-06-30T11:39:25.432Z"
   },
   {
    "duration": 5,
    "start_time": "2022-06-30T11:39:25.443Z"
   },
   {
    "duration": 1045,
    "start_time": "2022-06-30T11:39:25.450Z"
   },
   {
    "duration": 19,
    "start_time": "2022-06-30T11:39:26.497Z"
   },
   {
    "duration": 8,
    "start_time": "2022-06-30T11:39:26.517Z"
   },
   {
    "duration": 1958,
    "start_time": "2022-06-30T11:39:26.527Z"
   },
   {
    "duration": 16,
    "start_time": "2022-06-30T11:39:28.486Z"
   },
   {
    "duration": 4,
    "start_time": "2022-06-30T11:39:28.504Z"
   },
   {
    "duration": 246,
    "start_time": "2022-06-30T11:39:28.510Z"
   },
   {
    "duration": 0,
    "start_time": "2022-06-30T11:39:28.758Z"
   },
   {
    "duration": 0,
    "start_time": "2022-06-30T11:39:28.759Z"
   },
   {
    "duration": 1,
    "start_time": "2022-06-30T11:39:28.760Z"
   },
   {
    "duration": 0,
    "start_time": "2022-06-30T11:39:28.762Z"
   },
   {
    "duration": 0,
    "start_time": "2022-06-30T11:39:28.763Z"
   },
   {
    "duration": 15,
    "start_time": "2022-06-30T11:40:06.765Z"
   },
   {
    "duration": 15,
    "start_time": "2022-06-30T11:40:09.595Z"
   },
   {
    "duration": 6,
    "start_time": "2022-06-30T11:40:17.967Z"
   },
   {
    "duration": 14,
    "start_time": "2022-06-30T11:40:20.113Z"
   },
   {
    "duration": 3144,
    "start_time": "2022-06-30T11:40:31.103Z"
   },
   {
    "duration": 4,
    "start_time": "2022-06-30T11:42:32.997Z"
   },
   {
    "duration": 4,
    "start_time": "2022-06-30T11:42:36.830Z"
   },
   {
    "duration": 5,
    "start_time": "2022-06-30T11:42:39.349Z"
   },
   {
    "duration": 57,
    "start_time": "2022-06-30T11:42:39.357Z"
   },
   {
    "duration": 11,
    "start_time": "2022-06-30T11:42:39.415Z"
   },
   {
    "duration": 12,
    "start_time": "2022-06-30T11:42:39.428Z"
   },
   {
    "duration": 7,
    "start_time": "2022-06-30T11:42:39.442Z"
   },
   {
    "duration": 8,
    "start_time": "2022-06-30T11:42:39.450Z"
   },
   {
    "duration": 30,
    "start_time": "2022-06-30T11:42:39.460Z"
   },
   {
    "duration": 5,
    "start_time": "2022-06-30T11:42:39.491Z"
   },
   {
    "duration": 40,
    "start_time": "2022-06-30T11:42:39.498Z"
   },
   {
    "duration": 29,
    "start_time": "2022-06-30T11:42:39.541Z"
   },
   {
    "duration": 761,
    "start_time": "2022-06-30T11:42:39.572Z"
   },
   {
    "duration": 2033,
    "start_time": "2022-06-30T11:42:40.335Z"
   },
   {
    "duration": 1080,
    "start_time": "2022-06-30T11:42:42.369Z"
   },
   {
    "duration": 8,
    "start_time": "2022-06-30T11:42:43.450Z"
   },
   {
    "duration": 14,
    "start_time": "2022-06-30T11:42:43.460Z"
   },
   {
    "duration": 1015,
    "start_time": "2022-06-30T11:42:43.475Z"
   },
   {
    "duration": 17,
    "start_time": "2022-06-30T11:42:44.492Z"
   },
   {
    "duration": 7,
    "start_time": "2022-06-30T11:42:44.511Z"
   },
   {
    "duration": 2074,
    "start_time": "2022-06-30T11:42:44.519Z"
   },
   {
    "duration": 16,
    "start_time": "2022-06-30T11:42:46.594Z"
   },
   {
    "duration": 4,
    "start_time": "2022-06-30T11:42:46.611Z"
   },
   {
    "duration": 2939,
    "start_time": "2022-06-30T11:42:46.617Z"
   },
   {
    "duration": 1571,
    "start_time": "2022-06-30T11:42:49.558Z"
   },
   {
    "duration": 159,
    "start_time": "2022-06-30T11:42:51.130Z"
   },
   {
    "duration": 11,
    "start_time": "2022-06-30T11:42:51.290Z"
   },
   {
    "duration": 0,
    "start_time": "2022-06-30T11:42:51.302Z"
   },
   {
    "duration": 0,
    "start_time": "2022-06-30T11:42:51.303Z"
   },
   {
    "duration": 122,
    "start_time": "2022-06-30T11:45:01.773Z"
   },
   {
    "duration": 15,
    "start_time": "2022-06-30T11:45:06.865Z"
   },
   {
    "duration": 17,
    "start_time": "2022-06-30T11:45:18.517Z"
   },
   {
    "duration": 18,
    "start_time": "2022-06-30T11:45:25.212Z"
   },
   {
    "duration": 2931,
    "start_time": "2022-06-30T11:46:28.487Z"
   },
   {
    "duration": 10,
    "start_time": "2022-06-30T11:47:28.808Z"
   },
   {
    "duration": 11,
    "start_time": "2022-06-30T11:48:59.399Z"
   },
   {
    "duration": 11,
    "start_time": "2022-06-30T11:49:37.515Z"
   },
   {
    "duration": 11,
    "start_time": "2022-06-30T11:49:53.538Z"
   },
   {
    "duration": 11,
    "start_time": "2022-06-30T11:51:07.466Z"
   },
   {
    "duration": 11,
    "start_time": "2022-06-30T11:51:17.864Z"
   },
   {
    "duration": 11,
    "start_time": "2022-06-30T11:51:26.294Z"
   },
   {
    "duration": 10,
    "start_time": "2022-06-30T11:54:08.199Z"
   },
   {
    "duration": 5,
    "start_time": "2022-06-30T11:55:40.242Z"
   },
   {
    "duration": 10,
    "start_time": "2022-06-30T11:56:22.189Z"
   },
   {
    "duration": 5,
    "start_time": "2022-06-30T11:56:55.681Z"
   },
   {
    "duration": 5,
    "start_time": "2022-06-30T11:57:01.770Z"
   },
   {
    "duration": 128,
    "start_time": "2022-06-30T11:57:05.193Z"
   },
   {
    "duration": 6,
    "start_time": "2022-06-30T11:57:08.795Z"
   },
   {
    "duration": 5,
    "start_time": "2022-06-30T11:58:50.095Z"
   },
   {
    "duration": 5,
    "start_time": "2022-06-30T11:59:32.597Z"
   },
   {
    "duration": 4,
    "start_time": "2022-06-30T12:00:53.823Z"
   },
   {
    "duration": 5,
    "start_time": "2022-06-30T12:01:14.273Z"
   },
   {
    "duration": 5,
    "start_time": "2022-06-30T12:01:49.956Z"
   },
   {
    "duration": 5,
    "start_time": "2022-06-30T12:01:52.514Z"
   },
   {
    "duration": 11,
    "start_time": "2022-06-30T12:03:04.087Z"
   },
   {
    "duration": 4137,
    "start_time": "2022-06-30T12:04:52.290Z"
   },
   {
    "duration": 900,
    "start_time": "2022-06-30T12:05:19.292Z"
   },
   {
    "duration": 21,
    "start_time": "2022-06-30T12:05:36.853Z"
   },
   {
    "duration": 1052,
    "start_time": "2022-06-30T12:06:46.327Z"
   },
   {
    "duration": 678,
    "start_time": "2022-06-30T12:07:25.326Z"
   },
   {
    "duration": 751,
    "start_time": "2022-06-30T12:09:26.428Z"
   },
   {
    "duration": 16,
    "start_time": "2022-06-30T12:10:03.517Z"
   },
   {
    "duration": 1105,
    "start_time": "2022-06-30T12:11:41.498Z"
   },
   {
    "duration": 977,
    "start_time": "2022-06-30T12:11:51.645Z"
   },
   {
    "duration": 1055,
    "start_time": "2022-06-30T12:12:58.836Z"
   },
   {
    "duration": 114,
    "start_time": "2022-06-30T12:13:40.385Z"
   },
   {
    "duration": 1049,
    "start_time": "2022-06-30T12:13:50.723Z"
   },
   {
    "duration": 12,
    "start_time": "2022-06-30T12:14:06.174Z"
   },
   {
    "duration": 1125,
    "start_time": "2022-06-30T12:16:49.299Z"
   },
   {
    "duration": 83,
    "start_time": "2022-06-30T12:17:16.477Z"
   },
   {
    "duration": 1162,
    "start_time": "2022-06-30T12:17:37.225Z"
   },
   {
    "duration": 1263,
    "start_time": "2022-06-30T12:18:12.951Z"
   },
   {
    "duration": 1344,
    "start_time": "2022-06-30T12:19:26.541Z"
   },
   {
    "duration": 2269,
    "start_time": "2022-06-30T12:19:36.149Z"
   },
   {
    "duration": 1370,
    "start_time": "2022-06-30T12:21:30.575Z"
   },
   {
    "duration": 2084,
    "start_time": "2022-06-30T12:21:48.640Z"
   },
   {
    "duration": 1880,
    "start_time": "2022-06-30T12:22:08.066Z"
   },
   {
    "duration": 1051,
    "start_time": "2022-06-30T12:22:24.837Z"
   },
   {
    "duration": 729,
    "start_time": "2022-06-30T12:22:42.217Z"
   },
   {
    "duration": 921,
    "start_time": "2022-06-30T12:22:55.745Z"
   },
   {
    "duration": 11,
    "start_time": "2022-06-30T12:50:07.125Z"
   },
   {
    "duration": 4,
    "start_time": "2022-06-30T12:51:09.519Z"
   },
   {
    "duration": 43,
    "start_time": "2022-06-30T12:51:09.529Z"
   },
   {
    "duration": 11,
    "start_time": "2022-06-30T12:51:09.574Z"
   },
   {
    "duration": 13,
    "start_time": "2022-06-30T12:51:09.586Z"
   },
   {
    "duration": 8,
    "start_time": "2022-06-30T12:51:09.600Z"
   },
   {
    "duration": 9,
    "start_time": "2022-06-30T12:51:09.610Z"
   },
   {
    "duration": 38,
    "start_time": "2022-06-30T12:51:09.621Z"
   },
   {
    "duration": 4,
    "start_time": "2022-06-30T12:51:09.661Z"
   },
   {
    "duration": 37,
    "start_time": "2022-06-30T12:51:09.667Z"
   },
   {
    "duration": 14,
    "start_time": "2022-06-30T12:51:09.706Z"
   },
   {
    "duration": 799,
    "start_time": "2022-06-30T12:51:09.721Z"
   },
   {
    "duration": 2088,
    "start_time": "2022-06-30T12:51:10.522Z"
   },
   {
    "duration": 998,
    "start_time": "2022-06-30T12:51:12.612Z"
   },
   {
    "duration": 7,
    "start_time": "2022-06-30T12:51:13.612Z"
   },
   {
    "duration": 5,
    "start_time": "2022-06-30T12:51:13.622Z"
   },
   {
    "duration": 1022,
    "start_time": "2022-06-30T12:51:13.628Z"
   },
   {
    "duration": 22,
    "start_time": "2022-06-30T12:51:14.652Z"
   },
   {
    "duration": 9,
    "start_time": "2022-06-30T12:51:14.675Z"
   },
   {
    "duration": 2094,
    "start_time": "2022-06-30T12:51:14.685Z"
   },
   {
    "duration": 15,
    "start_time": "2022-06-30T12:51:16.781Z"
   },
   {
    "duration": 4,
    "start_time": "2022-06-30T12:51:16.798Z"
   },
   {
    "duration": 1189,
    "start_time": "2022-06-30T12:51:16.804Z"
   },
   {
    "duration": 1618,
    "start_time": "2022-06-30T12:51:17.994Z"
   },
   {
    "duration": 160,
    "start_time": "2022-06-30T12:51:19.614Z"
   },
   {
    "duration": 10,
    "start_time": "2022-06-30T12:51:19.776Z"
   },
   {
    "duration": 257,
    "start_time": "2022-06-30T12:51:19.788Z"
   },
   {
    "duration": 10,
    "start_time": "2022-06-30T12:51:20.046Z"
   },
   {
    "duration": 7,
    "start_time": "2022-06-30T12:51:20.058Z"
   },
   {
    "duration": 10,
    "start_time": "2022-06-30T12:51:20.067Z"
   },
   {
    "duration": 832,
    "start_time": "2022-06-30T12:53:09.397Z"
   },
   {
    "duration": 1994,
    "start_time": "2022-06-30T12:54:04.372Z"
   },
   {
    "duration": 5,
    "start_time": "2022-06-30T12:54:48.784Z"
   },
   {
    "duration": 51,
    "start_time": "2022-06-30T12:54:48.791Z"
   },
   {
    "duration": 11,
    "start_time": "2022-06-30T12:54:48.844Z"
   },
   {
    "duration": 13,
    "start_time": "2022-06-30T12:54:48.857Z"
   },
   {
    "duration": 7,
    "start_time": "2022-06-30T12:54:48.871Z"
   },
   {
    "duration": 8,
    "start_time": "2022-06-30T12:54:48.880Z"
   },
   {
    "duration": 9,
    "start_time": "2022-06-30T12:54:48.889Z"
   },
   {
    "duration": 949,
    "start_time": "2022-06-30T12:54:48.899Z"
   },
   {
    "duration": 1971,
    "start_time": "2022-06-30T12:54:49.850Z"
   },
   {
    "duration": 5,
    "start_time": "2022-06-30T12:54:51.824Z"
   },
   {
    "duration": 54,
    "start_time": "2022-06-30T12:54:51.831Z"
   },
   {
    "duration": 14,
    "start_time": "2022-06-30T12:54:51.886Z"
   },
   {
    "duration": 960,
    "start_time": "2022-06-30T12:54:51.901Z"
   },
   {
    "duration": 1890,
    "start_time": "2022-06-30T12:54:52.863Z"
   },
   {
    "duration": 944,
    "start_time": "2022-06-30T12:54:54.755Z"
   },
   {
    "duration": 8,
    "start_time": "2022-06-30T12:54:55.701Z"
   },
   {
    "duration": 8,
    "start_time": "2022-06-30T12:54:55.711Z"
   },
   {
    "duration": 1015,
    "start_time": "2022-06-30T12:54:55.721Z"
   },
   {
    "duration": 29,
    "start_time": "2022-06-30T12:54:56.737Z"
   },
   {
    "duration": 7,
    "start_time": "2022-06-30T12:54:56.768Z"
   },
   {
    "duration": 2002,
    "start_time": "2022-06-30T12:54:56.777Z"
   },
   {
    "duration": 16,
    "start_time": "2022-06-30T12:54:58.781Z"
   },
   {
    "duration": 5,
    "start_time": "2022-06-30T12:54:58.798Z"
   },
   {
    "duration": 1294,
    "start_time": "2022-06-30T12:54:58.804Z"
   },
   {
    "duration": 1553,
    "start_time": "2022-06-30T12:55:00.100Z"
   },
   {
    "duration": 164,
    "start_time": "2022-06-30T12:55:01.654Z"
   },
   {
    "duration": 12,
    "start_time": "2022-06-30T12:55:01.821Z"
   },
   {
    "duration": 153,
    "start_time": "2022-06-30T12:55:01.836Z"
   },
   {
    "duration": 5,
    "start_time": "2022-06-30T12:55:01.991Z"
   },
   {
    "duration": 13,
    "start_time": "2022-06-30T12:55:01.997Z"
   },
   {
    "duration": 13,
    "start_time": "2022-06-30T12:55:02.012Z"
   },
   {
    "duration": 880,
    "start_time": "2022-06-30T13:20:03.402Z"
   },
   {
    "duration": 1548,
    "start_time": "2022-06-30T13:20:48.728Z"
   },
   {
    "duration": 3029,
    "start_time": "2022-06-30T13:21:22.695Z"
   },
   {
    "duration": 5,
    "start_time": "2022-06-30T13:27:34.658Z"
   },
   {
    "duration": 53,
    "start_time": "2022-06-30T13:27:34.666Z"
   },
   {
    "duration": 14,
    "start_time": "2022-06-30T13:27:34.721Z"
   },
   {
    "duration": 30,
    "start_time": "2022-06-30T13:27:34.737Z"
   },
   {
    "duration": 11,
    "start_time": "2022-06-30T13:27:34.769Z"
   },
   {
    "duration": 9,
    "start_time": "2022-06-30T13:27:34.782Z"
   },
   {
    "duration": 8,
    "start_time": "2022-06-30T13:27:34.794Z"
   },
   {
    "duration": 1173,
    "start_time": "2022-06-30T13:27:34.804Z"
   },
   {
    "duration": 3261,
    "start_time": "2022-06-30T13:27:35.980Z"
   },
   {
    "duration": 14,
    "start_time": "2022-06-30T13:27:39.243Z"
   },
   {
    "duration": 74,
    "start_time": "2022-06-30T13:27:39.260Z"
   },
   {
    "duration": 26,
    "start_time": "2022-06-30T13:27:39.336Z"
   },
   {
    "duration": 969,
    "start_time": "2022-06-30T13:27:39.364Z"
   },
   {
    "duration": 2439,
    "start_time": "2022-06-30T13:27:40.336Z"
   },
   {
    "duration": 1059,
    "start_time": "2022-06-30T13:27:42.777Z"
   },
   {
    "duration": 15,
    "start_time": "2022-06-30T13:27:43.837Z"
   },
   {
    "duration": 4,
    "start_time": "2022-06-30T13:27:43.855Z"
   },
   {
    "duration": 1135,
    "start_time": "2022-06-30T13:27:43.861Z"
   },
   {
    "duration": 22,
    "start_time": "2022-06-30T13:27:44.999Z"
   },
   {
    "duration": 10,
    "start_time": "2022-06-30T13:27:45.023Z"
   },
   {
    "duration": 2547,
    "start_time": "2022-06-30T13:27:45.054Z"
   },
   {
    "duration": 17,
    "start_time": "2022-06-30T13:27:47.603Z"
   },
   {
    "duration": 6,
    "start_time": "2022-06-30T13:27:47.622Z"
   },
   {
    "duration": 1435,
    "start_time": "2022-06-30T13:27:47.632Z"
   },
   {
    "duration": 1801,
    "start_time": "2022-06-30T13:27:49.070Z"
   },
   {
    "duration": 187,
    "start_time": "2022-06-30T13:27:50.873Z"
   },
   {
    "duration": 15,
    "start_time": "2022-06-30T13:27:51.063Z"
   },
   {
    "duration": 181,
    "start_time": "2022-06-30T13:27:51.080Z"
   },
   {
    "duration": 6,
    "start_time": "2022-06-30T13:27:51.264Z"
   },
   {
    "duration": 8,
    "start_time": "2022-06-30T13:27:51.272Z"
   },
   {
    "duration": 13,
    "start_time": "2022-06-30T13:27:51.281Z"
   },
   {
    "duration": 14,
    "start_time": "2022-06-30T13:34:21.444Z"
   },
   {
    "duration": 884,
    "start_time": "2022-06-30T13:35:21.617Z"
   },
   {
    "duration": 18,
    "start_time": "2022-06-30T13:35:27.663Z"
   },
   {
    "duration": 6,
    "start_time": "2022-06-30T13:35:32.317Z"
   },
   {
    "duration": 55,
    "start_time": "2022-06-30T13:35:32.326Z"
   },
   {
    "duration": 14,
    "start_time": "2022-06-30T13:35:32.383Z"
   },
   {
    "duration": 16,
    "start_time": "2022-06-30T13:35:32.398Z"
   },
   {
    "duration": 10,
    "start_time": "2022-06-30T13:35:32.416Z"
   },
   {
    "duration": 9,
    "start_time": "2022-06-30T13:35:32.452Z"
   },
   {
    "duration": 13,
    "start_time": "2022-06-30T13:35:32.462Z"
   },
   {
    "duration": 1145,
    "start_time": "2022-06-30T13:35:32.476Z"
   },
   {
    "duration": 285,
    "start_time": "2022-06-30T13:35:33.624Z"
   },
   {
    "duration": 0,
    "start_time": "2022-06-30T13:35:33.912Z"
   },
   {
    "duration": 0,
    "start_time": "2022-06-30T13:35:33.913Z"
   },
   {
    "duration": 0,
    "start_time": "2022-06-30T13:35:33.914Z"
   },
   {
    "duration": 0,
    "start_time": "2022-06-30T13:35:33.915Z"
   },
   {
    "duration": 0,
    "start_time": "2022-06-30T13:35:33.916Z"
   },
   {
    "duration": 0,
    "start_time": "2022-06-30T13:35:33.917Z"
   },
   {
    "duration": 1,
    "start_time": "2022-06-30T13:35:33.917Z"
   },
   {
    "duration": 0,
    "start_time": "2022-06-30T13:35:33.918Z"
   },
   {
    "duration": 0,
    "start_time": "2022-06-30T13:35:33.919Z"
   },
   {
    "duration": 0,
    "start_time": "2022-06-30T13:35:33.921Z"
   },
   {
    "duration": 0,
    "start_time": "2022-06-30T13:35:33.922Z"
   },
   {
    "duration": 0,
    "start_time": "2022-06-30T13:35:33.923Z"
   },
   {
    "duration": 0,
    "start_time": "2022-06-30T13:35:33.924Z"
   },
   {
    "duration": 0,
    "start_time": "2022-06-30T13:35:33.925Z"
   },
   {
    "duration": 0,
    "start_time": "2022-06-30T13:35:33.926Z"
   },
   {
    "duration": 0,
    "start_time": "2022-06-30T13:35:33.927Z"
   },
   {
    "duration": 0,
    "start_time": "2022-06-30T13:35:33.953Z"
   },
   {
    "duration": 1,
    "start_time": "2022-06-30T13:35:33.954Z"
   },
   {
    "duration": 0,
    "start_time": "2022-06-30T13:35:33.955Z"
   },
   {
    "duration": 0,
    "start_time": "2022-06-30T13:35:33.956Z"
   },
   {
    "duration": 0,
    "start_time": "2022-06-30T13:35:33.958Z"
   },
   {
    "duration": 0,
    "start_time": "2022-06-30T13:35:33.959Z"
   },
   {
    "duration": 10,
    "start_time": "2022-06-30T13:36:32.559Z"
   },
   {
    "duration": 13,
    "start_time": "2022-06-30T13:36:40.857Z"
   },
   {
    "duration": 8,
    "start_time": "2022-06-30T13:37:18.962Z"
   },
   {
    "duration": 884,
    "start_time": "2022-06-30T13:37:43.572Z"
   },
   {
    "duration": 3328,
    "start_time": "2022-06-30T13:37:56.906Z"
   },
   {
    "duration": 9,
    "start_time": "2022-06-30T13:50:23.541Z"
   },
   {
    "duration": 8,
    "start_time": "2022-06-30T13:51:07.319Z"
   },
   {
    "duration": 2923,
    "start_time": "2022-06-30T13:51:08.986Z"
   },
   {
    "duration": 6,
    "start_time": "2022-06-30T14:09:13.299Z"
   },
   {
    "duration": 59,
    "start_time": "2022-06-30T14:09:13.308Z"
   },
   {
    "duration": 11,
    "start_time": "2022-06-30T14:09:13.369Z"
   },
   {
    "duration": 13,
    "start_time": "2022-06-30T14:09:13.382Z"
   },
   {
    "duration": 10,
    "start_time": "2022-06-30T14:09:13.396Z"
   },
   {
    "duration": 9,
    "start_time": "2022-06-30T14:09:13.407Z"
   },
   {
    "duration": 41,
    "start_time": "2022-06-30T14:09:13.418Z"
   },
   {
    "duration": 3073,
    "start_time": "2022-06-30T14:09:13.461Z"
   },
   {
    "duration": 6,
    "start_time": "2022-06-30T14:09:16.536Z"
   },
   {
    "duration": 37,
    "start_time": "2022-06-30T14:09:16.552Z"
   },
   {
    "duration": 14,
    "start_time": "2022-06-30T14:09:16.590Z"
   },
   {
    "duration": 871,
    "start_time": "2022-06-30T14:09:16.605Z"
   },
   {
    "duration": 2113,
    "start_time": "2022-06-30T14:09:17.478Z"
   },
   {
    "duration": 1138,
    "start_time": "2022-06-30T14:09:19.593Z"
   },
   {
    "duration": 6,
    "start_time": "2022-06-30T14:09:20.733Z"
   },
   {
    "duration": 15,
    "start_time": "2022-06-30T14:09:20.740Z"
   },
   {
    "duration": 1039,
    "start_time": "2022-06-30T14:09:20.756Z"
   },
   {
    "duration": 18,
    "start_time": "2022-06-30T14:09:21.796Z"
   },
   {
    "duration": 8,
    "start_time": "2022-06-30T14:09:21.816Z"
   },
   {
    "duration": 2255,
    "start_time": "2022-06-30T14:09:21.825Z"
   },
   {
    "duration": 17,
    "start_time": "2022-06-30T14:09:24.082Z"
   },
   {
    "duration": 4,
    "start_time": "2022-06-30T14:09:24.101Z"
   },
   {
    "duration": 1248,
    "start_time": "2022-06-30T14:09:24.107Z"
   },
   {
    "duration": 1475,
    "start_time": "2022-06-30T14:09:25.356Z"
   },
   {
    "duration": 176,
    "start_time": "2022-06-30T14:09:26.833Z"
   },
   {
    "duration": 12,
    "start_time": "2022-06-30T14:09:27.011Z"
   },
   {
    "duration": 161,
    "start_time": "2022-06-30T14:09:27.024Z"
   },
   {
    "duration": 5,
    "start_time": "2022-06-30T14:09:27.188Z"
   },
   {
    "duration": 12,
    "start_time": "2022-06-30T14:09:27.194Z"
   },
   {
    "duration": 14,
    "start_time": "2022-06-30T14:09:27.208Z"
   },
   {
    "duration": 14,
    "start_time": "2022-06-30T14:13:49.414Z"
   },
   {
    "duration": 14,
    "start_time": "2022-06-30T14:13:59.141Z"
   },
   {
    "duration": 12,
    "start_time": "2022-06-30T14:14:23.762Z"
   },
   {
    "duration": 4,
    "start_time": "2022-06-30T14:14:34.979Z"
   },
   {
    "duration": 46,
    "start_time": "2022-06-30T14:14:34.985Z"
   },
   {
    "duration": 11,
    "start_time": "2022-06-30T14:14:35.033Z"
   },
   {
    "duration": 16,
    "start_time": "2022-06-30T14:14:35.045Z"
   },
   {
    "duration": 118,
    "start_time": "2022-06-30T14:14:35.063Z"
   },
   {
    "duration": 7,
    "start_time": "2022-06-30T14:14:35.182Z"
   },
   {
    "duration": 21,
    "start_time": "2022-06-30T14:14:35.191Z"
   },
   {
    "duration": 2939,
    "start_time": "2022-06-30T14:14:35.214Z"
   },
   {
    "duration": 5,
    "start_time": "2022-06-30T14:14:38.156Z"
   },
   {
    "duration": 60,
    "start_time": "2022-06-30T14:14:38.164Z"
   },
   {
    "duration": 35,
    "start_time": "2022-06-30T14:14:38.226Z"
   },
   {
    "duration": 854,
    "start_time": "2022-06-30T14:14:38.263Z"
   },
   {
    "duration": 2056,
    "start_time": "2022-06-30T14:14:39.119Z"
   },
   {
    "duration": 962,
    "start_time": "2022-06-30T14:14:41.178Z"
   },
   {
    "duration": 12,
    "start_time": "2022-06-30T14:14:42.142Z"
   },
   {
    "duration": 4,
    "start_time": "2022-06-30T14:14:42.155Z"
   },
   {
    "duration": 998,
    "start_time": "2022-06-30T14:14:42.161Z"
   },
   {
    "duration": 17,
    "start_time": "2022-06-30T14:14:43.161Z"
   },
   {
    "duration": 8,
    "start_time": "2022-06-30T14:14:43.180Z"
   },
   {
    "duration": 2091,
    "start_time": "2022-06-30T14:14:43.189Z"
   },
   {
    "duration": 16,
    "start_time": "2022-06-30T14:14:45.282Z"
   },
   {
    "duration": 5,
    "start_time": "2022-06-30T14:14:45.299Z"
   },
   {
    "duration": 1205,
    "start_time": "2022-06-30T14:14:45.306Z"
   },
   {
    "duration": 1604,
    "start_time": "2022-06-30T14:14:46.513Z"
   },
   {
    "duration": 207,
    "start_time": "2022-06-30T14:14:48.119Z"
   },
   {
    "duration": 13,
    "start_time": "2022-06-30T14:14:48.329Z"
   },
   {
    "duration": 161,
    "start_time": "2022-06-30T14:14:48.354Z"
   },
   {
    "duration": 4,
    "start_time": "2022-06-30T14:14:48.517Z"
   },
   {
    "duration": 15,
    "start_time": "2022-06-30T14:14:48.523Z"
   },
   {
    "duration": 21,
    "start_time": "2022-06-30T14:14:48.539Z"
   },
   {
    "duration": 16,
    "start_time": "2022-06-30T14:15:58.002Z"
   },
   {
    "duration": 17,
    "start_time": "2022-06-30T14:16:09.194Z"
   },
   {
    "duration": 5,
    "start_time": "2022-06-30T14:16:18.733Z"
   },
   {
    "duration": 46,
    "start_time": "2022-06-30T14:16:18.740Z"
   },
   {
    "duration": 11,
    "start_time": "2022-06-30T14:16:18.788Z"
   },
   {
    "duration": 15,
    "start_time": "2022-06-30T14:16:18.801Z"
   },
   {
    "duration": 9,
    "start_time": "2022-06-30T14:16:18.818Z"
   },
   {
    "duration": 8,
    "start_time": "2022-06-30T14:16:18.828Z"
   },
   {
    "duration": 31,
    "start_time": "2022-06-30T14:16:18.838Z"
   },
   {
    "duration": 2896,
    "start_time": "2022-06-30T14:16:18.871Z"
   },
   {
    "duration": 6,
    "start_time": "2022-06-30T14:16:21.768Z"
   },
   {
    "duration": 40,
    "start_time": "2022-06-30T14:16:21.776Z"
   },
   {
    "duration": 16,
    "start_time": "2022-06-30T14:16:21.818Z"
   },
   {
    "duration": 949,
    "start_time": "2022-06-30T14:16:21.854Z"
   },
   {
    "duration": 1920,
    "start_time": "2022-06-30T14:16:22.805Z"
   },
   {
    "duration": 956,
    "start_time": "2022-06-30T14:16:24.728Z"
   },
   {
    "duration": 6,
    "start_time": "2022-06-30T14:16:25.686Z"
   },
   {
    "duration": 6,
    "start_time": "2022-06-30T14:16:25.694Z"
   },
   {
    "duration": 1030,
    "start_time": "2022-06-30T14:16:25.702Z"
   },
   {
    "duration": 26,
    "start_time": "2022-06-30T14:16:26.734Z"
   },
   {
    "duration": 8,
    "start_time": "2022-06-30T14:16:26.761Z"
   },
   {
    "duration": 1909,
    "start_time": "2022-06-30T14:16:26.770Z"
   },
   {
    "duration": 20,
    "start_time": "2022-06-30T14:16:28.681Z"
   },
   {
    "duration": 4,
    "start_time": "2022-06-30T14:16:28.703Z"
   },
   {
    "duration": 1297,
    "start_time": "2022-06-30T14:16:28.708Z"
   },
   {
    "duration": 1550,
    "start_time": "2022-06-30T14:16:30.007Z"
   },
   {
    "duration": 163,
    "start_time": "2022-06-30T14:16:31.559Z"
   },
   {
    "duration": 12,
    "start_time": "2022-06-30T14:16:31.723Z"
   },
   {
    "duration": 147,
    "start_time": "2022-06-30T14:16:31.736Z"
   },
   {
    "duration": 4,
    "start_time": "2022-06-30T14:16:31.885Z"
   },
   {
    "duration": 7,
    "start_time": "2022-06-30T14:16:31.890Z"
   },
   {
    "duration": 10,
    "start_time": "2022-06-30T14:16:31.898Z"
   },
   {
    "duration": 3102,
    "start_time": "2022-06-30T14:17:55.526Z"
   },
   {
    "duration": 4,
    "start_time": "2022-06-30T14:18:04.210Z"
   },
   {
    "duration": 51,
    "start_time": "2022-06-30T14:18:04.216Z"
   },
   {
    "duration": 14,
    "start_time": "2022-06-30T14:18:04.269Z"
   },
   {
    "duration": 15,
    "start_time": "2022-06-30T14:18:04.284Z"
   },
   {
    "duration": 8,
    "start_time": "2022-06-30T14:18:04.301Z"
   },
   {
    "duration": 8,
    "start_time": "2022-06-30T14:18:04.310Z"
   },
   {
    "duration": 44,
    "start_time": "2022-06-30T14:18:04.320Z"
   },
   {
    "duration": 3005,
    "start_time": "2022-06-30T14:18:04.366Z"
   },
   {
    "duration": 6,
    "start_time": "2022-06-30T14:18:07.374Z"
   },
   {
    "duration": 48,
    "start_time": "2022-06-30T14:18:07.382Z"
   },
   {
    "duration": 31,
    "start_time": "2022-06-30T14:18:07.432Z"
   },
   {
    "duration": 916,
    "start_time": "2022-06-30T14:18:07.465Z"
   },
   {
    "duration": 2131,
    "start_time": "2022-06-30T14:18:08.383Z"
   },
   {
    "duration": 1055,
    "start_time": "2022-06-30T14:18:10.518Z"
   },
   {
    "duration": 9,
    "start_time": "2022-06-30T14:18:11.574Z"
   },
   {
    "duration": 6,
    "start_time": "2022-06-30T14:18:11.585Z"
   },
   {
    "duration": 1082,
    "start_time": "2022-06-30T14:18:11.593Z"
   },
   {
    "duration": 21,
    "start_time": "2022-06-30T14:18:12.677Z"
   },
   {
    "duration": 8,
    "start_time": "2022-06-30T14:18:12.701Z"
   },
   {
    "duration": 2269,
    "start_time": "2022-06-30T14:18:12.711Z"
   },
   {
    "duration": 16,
    "start_time": "2022-06-30T14:18:14.983Z"
   },
   {
    "duration": 5,
    "start_time": "2022-06-30T14:18:15.001Z"
   },
   {
    "duration": 1253,
    "start_time": "2022-06-30T14:18:15.007Z"
   },
   {
    "duration": 1682,
    "start_time": "2022-06-30T14:18:16.262Z"
   },
   {
    "duration": 172,
    "start_time": "2022-06-30T14:18:17.946Z"
   },
   {
    "duration": 16,
    "start_time": "2022-06-30T14:18:18.120Z"
   },
   {
    "duration": 215,
    "start_time": "2022-06-30T14:18:18.138Z"
   },
   {
    "duration": 4,
    "start_time": "2022-06-30T14:18:18.355Z"
   },
   {
    "duration": 8,
    "start_time": "2022-06-30T14:18:18.360Z"
   },
   {
    "duration": 14,
    "start_time": "2022-06-30T14:18:18.370Z"
   },
   {
    "duration": 6,
    "start_time": "2022-06-30T14:19:09.382Z"
   },
   {
    "duration": 48,
    "start_time": "2022-06-30T14:19:09.390Z"
   },
   {
    "duration": 12,
    "start_time": "2022-06-30T14:19:09.440Z"
   },
   {
    "duration": 13,
    "start_time": "2022-06-30T14:19:09.455Z"
   },
   {
    "duration": 9,
    "start_time": "2022-06-30T14:19:09.469Z"
   },
   {
    "duration": 7,
    "start_time": "2022-06-30T14:19:09.479Z"
   },
   {
    "duration": 7,
    "start_time": "2022-06-30T14:19:09.488Z"
   },
   {
    "duration": 3071,
    "start_time": "2022-06-30T14:19:09.497Z"
   },
   {
    "duration": 6,
    "start_time": "2022-06-30T14:19:12.571Z"
   },
   {
    "duration": 40,
    "start_time": "2022-06-30T14:19:12.581Z"
   },
   {
    "duration": 37,
    "start_time": "2022-06-30T14:19:12.624Z"
   },
   {
    "duration": 938,
    "start_time": "2022-06-30T14:19:12.663Z"
   },
   {
    "duration": 1875,
    "start_time": "2022-06-30T14:19:13.602Z"
   },
   {
    "duration": 912,
    "start_time": "2022-06-30T14:19:15.479Z"
   },
   {
    "duration": 7,
    "start_time": "2022-06-30T14:19:16.392Z"
   },
   {
    "duration": 7,
    "start_time": "2022-06-30T14:19:16.401Z"
   },
   {
    "duration": 1021,
    "start_time": "2022-06-30T14:19:16.409Z"
   },
   {
    "duration": 23,
    "start_time": "2022-06-30T14:19:17.431Z"
   },
   {
    "duration": 9,
    "start_time": "2022-06-30T14:19:17.455Z"
   },
   {
    "duration": 2116,
    "start_time": "2022-06-30T14:19:17.465Z"
   },
   {
    "duration": 16,
    "start_time": "2022-06-30T14:19:19.583Z"
   },
   {
    "duration": 5,
    "start_time": "2022-06-30T14:19:19.601Z"
   },
   {
    "duration": 1334,
    "start_time": "2022-06-30T14:19:19.607Z"
   },
   {
    "duration": 1604,
    "start_time": "2022-06-30T14:19:20.943Z"
   },
   {
    "duration": 160,
    "start_time": "2022-06-30T14:19:22.549Z"
   },
   {
    "duration": 11,
    "start_time": "2022-06-30T14:19:22.711Z"
   },
   {
    "duration": 166,
    "start_time": "2022-06-30T14:19:22.724Z"
   },
   {
    "duration": 9,
    "start_time": "2022-06-30T14:19:22.893Z"
   },
   {
    "duration": 9,
    "start_time": "2022-06-30T14:19:22.904Z"
   },
   {
    "duration": 12,
    "start_time": "2022-06-30T14:19:22.916Z"
   },
   {
    "duration": 7,
    "start_time": "2022-06-30T14:23:14.748Z"
   },
   {
    "duration": 4,
    "start_time": "2022-06-30T14:23:17.584Z"
   },
   {
    "duration": 252,
    "start_time": "2022-06-30T14:23:19.468Z"
   },
   {
    "duration": 5,
    "start_time": "2022-06-30T14:27:10.170Z"
   },
   {
    "duration": 66,
    "start_time": "2022-06-30T14:27:10.178Z"
   },
   {
    "duration": 16,
    "start_time": "2022-06-30T14:27:10.246Z"
   },
   {
    "duration": 21,
    "start_time": "2022-06-30T14:27:10.265Z"
   },
   {
    "duration": 8,
    "start_time": "2022-06-30T14:27:10.288Z"
   },
   {
    "duration": 7,
    "start_time": "2022-06-30T14:27:10.298Z"
   },
   {
    "duration": 8,
    "start_time": "2022-06-30T14:27:10.307Z"
   },
   {
    "duration": 3360,
    "start_time": "2022-06-30T14:27:10.317Z"
   },
   {
    "duration": 6,
    "start_time": "2022-06-30T14:27:13.679Z"
   },
   {
    "duration": 39,
    "start_time": "2022-06-30T14:27:13.687Z"
   },
   {
    "duration": 34,
    "start_time": "2022-06-30T14:27:13.728Z"
   },
   {
    "duration": 909,
    "start_time": "2022-06-30T14:27:13.764Z"
   },
   {
    "duration": 2237,
    "start_time": "2022-06-30T14:27:14.674Z"
   },
   {
    "duration": 1064,
    "start_time": "2022-06-30T14:27:16.913Z"
   },
   {
    "duration": 7,
    "start_time": "2022-06-30T14:27:17.979Z"
   },
   {
    "duration": 9,
    "start_time": "2022-06-30T14:27:17.988Z"
   },
   {
    "duration": 1168,
    "start_time": "2022-06-30T14:27:17.999Z"
   },
   {
    "duration": 6,
    "start_time": "2022-06-30T14:27:19.169Z"
   },
   {
    "duration": 260,
    "start_time": "2022-06-30T14:27:19.176Z"
   },
   {
    "duration": 30,
    "start_time": "2022-06-30T14:27:19.437Z"
   },
   {
    "duration": 12,
    "start_time": "2022-06-30T14:27:19.469Z"
   },
   {
    "duration": 681,
    "start_time": "2022-06-30T14:27:19.483Z"
   },
   {
    "duration": 0,
    "start_time": "2022-06-30T14:27:20.169Z"
   },
   {
    "duration": 0,
    "start_time": "2022-06-30T14:27:20.171Z"
   },
   {
    "duration": 0,
    "start_time": "2022-06-30T14:27:20.172Z"
   },
   {
    "duration": 0,
    "start_time": "2022-06-30T14:27:20.173Z"
   },
   {
    "duration": 0,
    "start_time": "2022-06-30T14:27:20.175Z"
   },
   {
    "duration": 0,
    "start_time": "2022-06-30T14:27:20.177Z"
   },
   {
    "duration": 0,
    "start_time": "2022-06-30T14:27:20.178Z"
   },
   {
    "duration": 0,
    "start_time": "2022-06-30T14:27:20.179Z"
   },
   {
    "duration": 0,
    "start_time": "2022-06-30T14:27:20.181Z"
   },
   {
    "duration": 0,
    "start_time": "2022-06-30T14:27:20.182Z"
   },
   {
    "duration": 259,
    "start_time": "2022-06-30T14:27:41.867Z"
   },
   {
    "duration": 4,
    "start_time": "2022-06-30T14:27:56.721Z"
   },
   {
    "duration": 57,
    "start_time": "2022-06-30T14:27:56.727Z"
   },
   {
    "duration": 11,
    "start_time": "2022-06-30T14:27:56.786Z"
   },
   {
    "duration": 14,
    "start_time": "2022-06-30T14:27:56.799Z"
   },
   {
    "duration": 8,
    "start_time": "2022-06-30T14:27:56.815Z"
   },
   {
    "duration": 7,
    "start_time": "2022-06-30T14:27:56.824Z"
   },
   {
    "duration": 27,
    "start_time": "2022-06-30T14:27:56.833Z"
   },
   {
    "duration": 3141,
    "start_time": "2022-06-30T14:27:56.862Z"
   },
   {
    "duration": 5,
    "start_time": "2022-06-30T14:28:00.005Z"
   },
   {
    "duration": 64,
    "start_time": "2022-06-30T14:28:00.013Z"
   },
   {
    "duration": 13,
    "start_time": "2022-06-30T14:28:00.079Z"
   },
   {
    "duration": 1108,
    "start_time": "2022-06-30T14:28:00.094Z"
   },
   {
    "duration": 2001,
    "start_time": "2022-06-30T14:28:01.204Z"
   },
   {
    "duration": 1025,
    "start_time": "2022-06-30T14:28:03.207Z"
   },
   {
    "duration": 6,
    "start_time": "2022-06-30T14:28:04.234Z"
   },
   {
    "duration": 13,
    "start_time": "2022-06-30T14:28:04.242Z"
   },
   {
    "duration": 1102,
    "start_time": "2022-06-30T14:28:04.257Z"
   },
   {
    "duration": 10,
    "start_time": "2022-06-30T14:28:05.361Z"
   },
   {
    "duration": 283,
    "start_time": "2022-06-30T14:28:05.373Z"
   },
   {
    "duration": 21,
    "start_time": "2022-06-30T14:28:05.659Z"
   },
   {
    "duration": 8,
    "start_time": "2022-06-30T14:28:05.681Z"
   },
   {
    "duration": 764,
    "start_time": "2022-06-30T14:28:05.691Z"
   },
   {
    "duration": 0,
    "start_time": "2022-06-30T14:28:06.458Z"
   },
   {
    "duration": 0,
    "start_time": "2022-06-30T14:28:06.461Z"
   },
   {
    "duration": 0,
    "start_time": "2022-06-30T14:28:06.463Z"
   },
   {
    "duration": 0,
    "start_time": "2022-06-30T14:28:06.466Z"
   },
   {
    "duration": 0,
    "start_time": "2022-06-30T14:28:06.468Z"
   },
   {
    "duration": 0,
    "start_time": "2022-06-30T14:28:06.469Z"
   },
   {
    "duration": 0,
    "start_time": "2022-06-30T14:28:06.470Z"
   },
   {
    "duration": 0,
    "start_time": "2022-06-30T14:28:06.472Z"
   },
   {
    "duration": 0,
    "start_time": "2022-06-30T14:28:06.473Z"
   },
   {
    "duration": 0,
    "start_time": "2022-06-30T14:28:06.475Z"
   },
   {
    "duration": 255,
    "start_time": "2022-06-30T14:30:45.288Z"
   },
   {
    "duration": 18,
    "start_time": "2022-06-30T14:32:40.648Z"
   },
   {
    "duration": 4,
    "start_time": "2022-06-30T14:32:45.624Z"
   },
   {
    "duration": 52,
    "start_time": "2022-06-30T14:32:45.630Z"
   },
   {
    "duration": 11,
    "start_time": "2022-06-30T14:32:45.684Z"
   },
   {
    "duration": 14,
    "start_time": "2022-06-30T14:32:45.697Z"
   },
   {
    "duration": 9,
    "start_time": "2022-06-30T14:32:45.713Z"
   },
   {
    "duration": 30,
    "start_time": "2022-06-30T14:32:45.724Z"
   },
   {
    "duration": 10,
    "start_time": "2022-06-30T14:32:45.756Z"
   },
   {
    "duration": 3139,
    "start_time": "2022-06-30T14:32:45.767Z"
   },
   {
    "duration": 5,
    "start_time": "2022-06-30T14:32:48.908Z"
   },
   {
    "duration": 52,
    "start_time": "2022-06-30T14:32:48.914Z"
   },
   {
    "duration": 14,
    "start_time": "2022-06-30T14:32:48.967Z"
   },
   {
    "duration": 839,
    "start_time": "2022-06-30T14:32:48.982Z"
   },
   {
    "duration": 2038,
    "start_time": "2022-06-30T14:32:49.822Z"
   },
   {
    "duration": 1001,
    "start_time": "2022-06-30T14:32:51.864Z"
   },
   {
    "duration": 9,
    "start_time": "2022-06-30T14:32:52.867Z"
   },
   {
    "duration": 9,
    "start_time": "2022-06-30T14:32:52.878Z"
   },
   {
    "duration": 1068,
    "start_time": "2022-06-30T14:32:52.889Z"
   },
   {
    "duration": 20,
    "start_time": "2022-06-30T14:32:53.959Z"
   },
   {
    "duration": 262,
    "start_time": "2022-06-30T14:32:53.981Z"
   },
   {
    "duration": 12,
    "start_time": "2022-06-30T14:32:54.245Z"
   },
   {
    "duration": 804,
    "start_time": "2022-06-30T14:32:54.259Z"
   },
   {
    "duration": 0,
    "start_time": "2022-06-30T14:32:55.154Z"
   },
   {
    "duration": 0,
    "start_time": "2022-06-30T14:32:55.155Z"
   },
   {
    "duration": 0,
    "start_time": "2022-06-30T14:32:55.156Z"
   },
   {
    "duration": 1,
    "start_time": "2022-06-30T14:32:55.156Z"
   },
   {
    "duration": 0,
    "start_time": "2022-06-30T14:32:55.157Z"
   },
   {
    "duration": 0,
    "start_time": "2022-06-30T14:32:55.158Z"
   },
   {
    "duration": 0,
    "start_time": "2022-06-30T14:32:55.159Z"
   },
   {
    "duration": 0,
    "start_time": "2022-06-30T14:32:55.160Z"
   },
   {
    "duration": 0,
    "start_time": "2022-06-30T14:32:55.161Z"
   },
   {
    "duration": 0,
    "start_time": "2022-06-30T14:32:55.162Z"
   },
   {
    "duration": 893,
    "start_time": "2022-06-30T14:35:19.964Z"
   },
   {
    "duration": 5,
    "start_time": "2022-06-30T14:42:07.521Z"
   },
   {
    "duration": 53,
    "start_time": "2022-06-30T14:42:07.528Z"
   },
   {
    "duration": 11,
    "start_time": "2022-06-30T14:42:07.583Z"
   },
   {
    "duration": 13,
    "start_time": "2022-06-30T14:42:07.596Z"
   },
   {
    "duration": 8,
    "start_time": "2022-06-30T14:42:07.610Z"
   },
   {
    "duration": 7,
    "start_time": "2022-06-30T14:42:07.620Z"
   },
   {
    "duration": 33,
    "start_time": "2022-06-30T14:42:07.628Z"
   },
   {
    "duration": 2975,
    "start_time": "2022-06-30T14:42:07.663Z"
   },
   {
    "duration": 254,
    "start_time": "2022-06-30T14:42:10.640Z"
   },
   {
    "duration": 10,
    "start_time": "2022-06-30T14:42:10.896Z"
   },
   {
    "duration": 0,
    "start_time": "2022-06-30T14:42:10.907Z"
   },
   {
    "duration": 0,
    "start_time": "2022-06-30T14:42:10.908Z"
   },
   {
    "duration": 0,
    "start_time": "2022-06-30T14:42:10.910Z"
   },
   {
    "duration": 0,
    "start_time": "2022-06-30T14:42:10.911Z"
   },
   {
    "duration": 0,
    "start_time": "2022-06-30T14:42:10.912Z"
   },
   {
    "duration": 0,
    "start_time": "2022-06-30T14:42:10.913Z"
   },
   {
    "duration": 0,
    "start_time": "2022-06-30T14:42:10.914Z"
   },
   {
    "duration": 0,
    "start_time": "2022-06-30T14:42:10.915Z"
   },
   {
    "duration": 0,
    "start_time": "2022-06-30T14:42:10.916Z"
   },
   {
    "duration": 0,
    "start_time": "2022-06-30T14:42:10.917Z"
   },
   {
    "duration": 0,
    "start_time": "2022-06-30T14:42:10.918Z"
   },
   {
    "duration": 1,
    "start_time": "2022-06-30T14:42:10.919Z"
   },
   {
    "duration": 0,
    "start_time": "2022-06-30T14:42:10.953Z"
   },
   {
    "duration": 0,
    "start_time": "2022-06-30T14:42:10.954Z"
   },
   {
    "duration": 0,
    "start_time": "2022-06-30T14:42:10.956Z"
   },
   {
    "duration": 0,
    "start_time": "2022-06-30T14:42:10.957Z"
   },
   {
    "duration": 0,
    "start_time": "2022-06-30T14:42:10.958Z"
   },
   {
    "duration": 0,
    "start_time": "2022-06-30T14:42:10.959Z"
   },
   {
    "duration": 0,
    "start_time": "2022-06-30T14:42:10.960Z"
   },
   {
    "duration": 0,
    "start_time": "2022-06-30T14:42:10.961Z"
   },
   {
    "duration": 0,
    "start_time": "2022-06-30T14:42:10.962Z"
   },
   {
    "duration": 0,
    "start_time": "2022-06-30T14:42:10.962Z"
   },
   {
    "duration": 5,
    "start_time": "2022-06-30T14:42:51.712Z"
   },
   {
    "duration": 58,
    "start_time": "2022-06-30T14:42:51.720Z"
   },
   {
    "duration": 12,
    "start_time": "2022-06-30T14:42:51.780Z"
   },
   {
    "duration": 15,
    "start_time": "2022-06-30T14:42:51.794Z"
   },
   {
    "duration": 8,
    "start_time": "2022-06-30T14:42:51.811Z"
   },
   {
    "duration": 6,
    "start_time": "2022-06-30T14:42:51.820Z"
   },
   {
    "duration": 25,
    "start_time": "2022-06-30T14:42:51.828Z"
   },
   {
    "duration": 3207,
    "start_time": "2022-06-30T14:42:51.855Z"
   },
   {
    "duration": 260,
    "start_time": "2022-06-30T14:42:55.064Z"
   },
   {
    "duration": 6,
    "start_time": "2022-06-30T14:42:55.326Z"
   },
   {
    "duration": 48,
    "start_time": "2022-06-30T14:42:55.333Z"
   },
   {
    "duration": 19,
    "start_time": "2022-06-30T14:42:55.383Z"
   },
   {
    "duration": 815,
    "start_time": "2022-06-30T14:42:55.404Z"
   },
   {
    "duration": 2206,
    "start_time": "2022-06-30T14:42:56.222Z"
   },
   {
    "duration": 977,
    "start_time": "2022-06-30T14:42:58.431Z"
   },
   {
    "duration": 7,
    "start_time": "2022-06-30T14:42:59.410Z"
   },
   {
    "duration": 6,
    "start_time": "2022-06-30T14:42:59.419Z"
   },
   {
    "duration": 1032,
    "start_time": "2022-06-30T14:42:59.426Z"
   },
   {
    "duration": 21,
    "start_time": "2022-06-30T14:43:00.460Z"
   },
   {
    "duration": 9,
    "start_time": "2022-06-30T14:43:00.482Z"
   },
   {
    "duration": 1888,
    "start_time": "2022-06-30T14:43:00.492Z"
   },
   {
    "duration": 16,
    "start_time": "2022-06-30T14:43:02.382Z"
   },
   {
    "duration": 5,
    "start_time": "2022-06-30T14:43:02.400Z"
   },
   {
    "duration": 1211,
    "start_time": "2022-06-30T14:43:02.406Z"
   },
   {
    "duration": 1707,
    "start_time": "2022-06-30T14:43:03.618Z"
   },
   {
    "duration": 283,
    "start_time": "2022-06-30T14:43:05.327Z"
   },
   {
    "duration": 12,
    "start_time": "2022-06-30T14:43:05.613Z"
   },
   {
    "duration": 155,
    "start_time": "2022-06-30T14:43:05.626Z"
   },
   {
    "duration": 6,
    "start_time": "2022-06-30T14:43:05.783Z"
   },
   {
    "duration": 8,
    "start_time": "2022-06-30T14:43:05.791Z"
   },
   {
    "duration": 12,
    "start_time": "2022-06-30T14:43:05.800Z"
   },
   {
    "duration": 4,
    "start_time": "2022-06-30T14:44:35.587Z"
   },
   {
    "duration": 50,
    "start_time": "2022-06-30T14:44:35.592Z"
   },
   {
    "duration": 13,
    "start_time": "2022-06-30T14:44:35.644Z"
   },
   {
    "duration": 14,
    "start_time": "2022-06-30T14:44:35.659Z"
   },
   {
    "duration": 8,
    "start_time": "2022-06-30T14:44:35.676Z"
   },
   {
    "duration": 7,
    "start_time": "2022-06-30T14:44:35.685Z"
   },
   {
    "duration": 8,
    "start_time": "2022-06-30T14:44:35.694Z"
   },
   {
    "duration": 3149,
    "start_time": "2022-06-30T14:44:35.704Z"
   },
   {
    "duration": 5,
    "start_time": "2022-06-30T14:44:38.855Z"
   },
   {
    "duration": 259,
    "start_time": "2022-06-30T14:44:38.861Z"
   },
   {
    "duration": 5,
    "start_time": "2022-06-30T14:44:39.122Z"
   },
   {
    "duration": 49,
    "start_time": "2022-06-30T14:44:39.128Z"
   },
   {
    "duration": 14,
    "start_time": "2022-06-30T14:44:39.178Z"
   },
   {
    "duration": 976,
    "start_time": "2022-06-30T14:44:39.194Z"
   },
   {
    "duration": 2009,
    "start_time": "2022-06-30T14:44:40.172Z"
   },
   {
    "duration": 969,
    "start_time": "2022-06-30T14:44:42.183Z"
   },
   {
    "duration": 7,
    "start_time": "2022-06-30T14:44:43.153Z"
   },
   {
    "duration": 1023,
    "start_time": "2022-06-30T14:44:43.161Z"
   },
   {
    "duration": 20,
    "start_time": "2022-06-30T14:44:44.185Z"
   },
   {
    "duration": 7,
    "start_time": "2022-06-30T14:44:44.207Z"
   },
   {
    "duration": 2977,
    "start_time": "2022-06-30T14:44:44.216Z"
   },
   {
    "duration": 18,
    "start_time": "2022-06-30T14:44:47.195Z"
   },
   {
    "duration": 5,
    "start_time": "2022-06-30T14:44:47.215Z"
   },
   {
    "duration": 1338,
    "start_time": "2022-06-30T14:44:47.222Z"
   },
   {
    "duration": 1472,
    "start_time": "2022-06-30T14:44:48.562Z"
   },
   {
    "duration": 183,
    "start_time": "2022-06-30T14:44:50.036Z"
   },
   {
    "duration": 12,
    "start_time": "2022-06-30T14:44:50.221Z"
   },
   {
    "duration": 147,
    "start_time": "2022-06-30T14:44:50.235Z"
   },
   {
    "duration": 4,
    "start_time": "2022-06-30T14:44:50.384Z"
   },
   {
    "duration": 9,
    "start_time": "2022-06-30T14:44:50.389Z"
   },
   {
    "duration": 10,
    "start_time": "2022-06-30T14:44:50.400Z"
   },
   {
    "duration": 4,
    "start_time": "2022-06-30T15:18:54.834Z"
   },
   {
    "duration": 48,
    "start_time": "2022-06-30T15:18:54.840Z"
   },
   {
    "duration": 12,
    "start_time": "2022-06-30T15:18:54.890Z"
   },
   {
    "duration": 12,
    "start_time": "2022-06-30T15:18:54.904Z"
   },
   {
    "duration": 8,
    "start_time": "2022-06-30T15:18:54.917Z"
   },
   {
    "duration": 28,
    "start_time": "2022-06-30T15:18:54.926Z"
   },
   {
    "duration": 9,
    "start_time": "2022-06-30T15:18:54.955Z"
   },
   {
    "duration": 3055,
    "start_time": "2022-06-30T15:18:54.965Z"
   },
   {
    "duration": 4,
    "start_time": "2022-06-30T15:18:58.022Z"
   },
   {
    "duration": 409,
    "start_time": "2022-06-30T15:18:58.030Z"
   },
   {
    "duration": 5,
    "start_time": "2022-06-30T15:18:58.441Z"
   },
   {
    "duration": 36,
    "start_time": "2022-06-30T15:18:58.452Z"
   },
   {
    "duration": 14,
    "start_time": "2022-06-30T15:18:58.490Z"
   },
   {
    "duration": 813,
    "start_time": "2022-06-30T15:18:58.505Z"
   },
   {
    "duration": 1896,
    "start_time": "2022-06-30T15:18:59.320Z"
   },
   {
    "duration": 1081,
    "start_time": "2022-06-30T15:19:01.219Z"
   },
   {
    "duration": 7,
    "start_time": "2022-06-30T15:19:02.302Z"
   },
   {
    "duration": 1136,
    "start_time": "2022-06-30T15:19:02.311Z"
   },
   {
    "duration": 20,
    "start_time": "2022-06-30T15:19:03.449Z"
   },
   {
    "duration": 7,
    "start_time": "2022-06-30T15:19:03.470Z"
   },
   {
    "duration": 2198,
    "start_time": "2022-06-30T15:19:03.479Z"
   },
   {
    "duration": 15,
    "start_time": "2022-06-30T15:19:05.679Z"
   },
   {
    "duration": 4,
    "start_time": "2022-06-30T15:19:05.696Z"
   },
   {
    "duration": 1191,
    "start_time": "2022-06-30T15:19:05.702Z"
   },
   {
    "duration": 1595,
    "start_time": "2022-06-30T15:19:06.895Z"
   },
   {
    "duration": 154,
    "start_time": "2022-06-30T15:19:08.492Z"
   },
   {
    "duration": 11,
    "start_time": "2022-06-30T15:19:08.653Z"
   },
   {
    "duration": 142,
    "start_time": "2022-06-30T15:19:08.667Z"
   },
   {
    "duration": 4,
    "start_time": "2022-06-30T15:19:08.811Z"
   },
   {
    "duration": 6,
    "start_time": "2022-06-30T15:19:08.817Z"
   },
   {
    "duration": 31,
    "start_time": "2022-06-30T15:19:08.825Z"
   },
   {
    "duration": 1661,
    "start_time": "2022-07-01T07:49:13.926Z"
   },
   {
    "duration": 67,
    "start_time": "2022-07-01T07:49:15.589Z"
   },
   {
    "duration": 12,
    "start_time": "2022-07-01T07:49:15.658Z"
   },
   {
    "duration": 15,
    "start_time": "2022-07-01T07:49:15.672Z"
   },
   {
    "duration": 9,
    "start_time": "2022-07-01T07:49:15.690Z"
   },
   {
    "duration": 26,
    "start_time": "2022-07-01T07:49:15.701Z"
   },
   {
    "duration": 9,
    "start_time": "2022-07-01T07:49:15.728Z"
   },
   {
    "duration": 119,
    "start_time": "2022-07-01T07:49:15.738Z"
   },
   {
    "duration": 0,
    "start_time": "2022-07-01T07:49:15.859Z"
   },
   {
    "duration": 1,
    "start_time": "2022-07-01T07:49:15.860Z"
   },
   {
    "duration": 0,
    "start_time": "2022-07-01T07:49:15.862Z"
   },
   {
    "duration": 0,
    "start_time": "2022-07-01T07:49:15.863Z"
   },
   {
    "duration": 0,
    "start_time": "2022-07-01T07:49:15.864Z"
   },
   {
    "duration": 0,
    "start_time": "2022-07-01T07:49:15.865Z"
   },
   {
    "duration": 0,
    "start_time": "2022-07-01T07:49:15.866Z"
   },
   {
    "duration": 0,
    "start_time": "2022-07-01T07:49:15.867Z"
   },
   {
    "duration": 0,
    "start_time": "2022-07-01T07:49:15.868Z"
   },
   {
    "duration": 0,
    "start_time": "2022-07-01T07:49:15.869Z"
   },
   {
    "duration": 0,
    "start_time": "2022-07-01T07:49:15.870Z"
   },
   {
    "duration": 0,
    "start_time": "2022-07-01T07:49:15.871Z"
   },
   {
    "duration": 0,
    "start_time": "2022-07-01T07:49:15.872Z"
   },
   {
    "duration": 0,
    "start_time": "2022-07-01T07:49:15.873Z"
   },
   {
    "duration": 0,
    "start_time": "2022-07-01T07:49:15.874Z"
   },
   {
    "duration": 0,
    "start_time": "2022-07-01T07:49:15.875Z"
   },
   {
    "duration": 0,
    "start_time": "2022-07-01T07:49:15.876Z"
   },
   {
    "duration": 0,
    "start_time": "2022-07-01T07:49:15.877Z"
   },
   {
    "duration": 0,
    "start_time": "2022-07-01T07:49:15.878Z"
   },
   {
    "duration": 0,
    "start_time": "2022-07-01T07:49:15.879Z"
   },
   {
    "duration": 0,
    "start_time": "2022-07-01T07:49:15.880Z"
   },
   {
    "duration": 0,
    "start_time": "2022-07-01T07:49:15.881Z"
   },
   {
    "duration": 0,
    "start_time": "2022-07-01T07:49:15.927Z"
   },
   {
    "duration": 3224,
    "start_time": "2022-07-01T07:50:16.929Z"
   },
   {
    "duration": 5,
    "start_time": "2022-07-01T07:50:23.189Z"
   },
   {
    "duration": 43,
    "start_time": "2022-07-01T07:50:23.195Z"
   },
   {
    "duration": 11,
    "start_time": "2022-07-01T07:50:23.239Z"
   },
   {
    "duration": 20,
    "start_time": "2022-07-01T07:50:23.252Z"
   },
   {
    "duration": 8,
    "start_time": "2022-07-01T07:50:23.274Z"
   },
   {
    "duration": 7,
    "start_time": "2022-07-01T07:50:23.283Z"
   },
   {
    "duration": 8,
    "start_time": "2022-07-01T07:50:23.292Z"
   },
   {
    "duration": 3152,
    "start_time": "2022-07-01T07:50:23.301Z"
   },
   {
    "duration": 4,
    "start_time": "2022-07-01T07:50:26.455Z"
   },
   {
    "duration": 271,
    "start_time": "2022-07-01T07:50:26.460Z"
   },
   {
    "duration": 5,
    "start_time": "2022-07-01T07:50:26.734Z"
   },
   {
    "duration": 44,
    "start_time": "2022-07-01T07:50:26.740Z"
   },
   {
    "duration": 14,
    "start_time": "2022-07-01T07:50:26.785Z"
   },
   {
    "duration": 877,
    "start_time": "2022-07-01T07:50:26.801Z"
   },
   {
    "duration": 2307,
    "start_time": "2022-07-01T07:50:27.679Z"
   },
   {
    "duration": 1073,
    "start_time": "2022-07-01T07:50:29.988Z"
   },
   {
    "duration": 7,
    "start_time": "2022-07-01T07:50:31.064Z"
   },
   {
    "duration": 1147,
    "start_time": "2022-07-01T07:50:31.073Z"
   },
   {
    "duration": 20,
    "start_time": "2022-07-01T07:50:32.222Z"
   },
   {
    "duration": 8,
    "start_time": "2022-07-01T07:50:32.244Z"
   },
   {
    "duration": 2103,
    "start_time": "2022-07-01T07:50:32.253Z"
   },
   {
    "duration": 16,
    "start_time": "2022-07-01T07:50:34.358Z"
   },
   {
    "duration": 5,
    "start_time": "2022-07-01T07:50:34.377Z"
   },
   {
    "duration": 1345,
    "start_time": "2022-07-01T07:50:34.384Z"
   },
   {
    "duration": 1737,
    "start_time": "2022-07-01T07:50:35.731Z"
   },
   {
    "duration": 187,
    "start_time": "2022-07-01T07:50:37.471Z"
   },
   {
    "duration": 11,
    "start_time": "2022-07-01T07:50:37.660Z"
   },
   {
    "duration": 163,
    "start_time": "2022-07-01T07:50:37.672Z"
   },
   {
    "duration": 4,
    "start_time": "2022-07-01T07:50:37.838Z"
   },
   {
    "duration": 15,
    "start_time": "2022-07-01T07:50:37.844Z"
   },
   {
    "duration": 9,
    "start_time": "2022-07-01T07:50:37.861Z"
   },
   {
    "duration": 1132,
    "start_time": "2022-07-01T07:58:17.816Z"
   },
   {
    "duration": 1174,
    "start_time": "2022-07-01T07:58:27.185Z"
   },
   {
    "duration": 5,
    "start_time": "2022-07-01T07:58:59.023Z"
   },
   {
    "duration": 41,
    "start_time": "2022-07-01T07:58:59.030Z"
   },
   {
    "duration": 12,
    "start_time": "2022-07-01T07:58:59.073Z"
   },
   {
    "duration": 22,
    "start_time": "2022-07-01T07:58:59.088Z"
   },
   {
    "duration": 20,
    "start_time": "2022-07-01T07:58:59.112Z"
   },
   {
    "duration": 7,
    "start_time": "2022-07-01T07:58:59.134Z"
   },
   {
    "duration": 10,
    "start_time": "2022-07-01T07:58:59.143Z"
   },
   {
    "duration": 3236,
    "start_time": "2022-07-01T07:58:59.155Z"
   },
   {
    "duration": 4,
    "start_time": "2022-07-01T07:59:02.392Z"
   },
   {
    "duration": 270,
    "start_time": "2022-07-01T07:59:02.399Z"
   },
   {
    "duration": 5,
    "start_time": "2022-07-01T07:59:02.670Z"
   },
   {
    "duration": 54,
    "start_time": "2022-07-01T07:59:02.676Z"
   },
   {
    "duration": 15,
    "start_time": "2022-07-01T07:59:02.732Z"
   },
   {
    "duration": 861,
    "start_time": "2022-07-01T07:59:02.749Z"
   },
   {
    "duration": 2235,
    "start_time": "2022-07-01T07:59:03.611Z"
   },
   {
    "duration": 1025,
    "start_time": "2022-07-01T07:59:05.848Z"
   },
   {
    "duration": 7,
    "start_time": "2022-07-01T07:59:06.875Z"
   },
   {
    "duration": 1161,
    "start_time": "2022-07-01T07:59:06.884Z"
   },
   {
    "duration": 21,
    "start_time": "2022-07-01T07:59:08.046Z"
   },
   {
    "duration": 9,
    "start_time": "2022-07-01T07:59:08.068Z"
   },
   {
    "duration": 2076,
    "start_time": "2022-07-01T07:59:08.079Z"
   },
   {
    "duration": 17,
    "start_time": "2022-07-01T07:59:10.156Z"
   },
   {
    "duration": 5,
    "start_time": "2022-07-01T07:59:10.174Z"
   },
   {
    "duration": 1267,
    "start_time": "2022-07-01T07:59:10.180Z"
   },
   {
    "duration": 1818,
    "start_time": "2022-07-01T07:59:11.449Z"
   },
   {
    "duration": 175,
    "start_time": "2022-07-01T07:59:13.269Z"
   },
   {
    "duration": 11,
    "start_time": "2022-07-01T07:59:13.446Z"
   },
   {
    "duration": 156,
    "start_time": "2022-07-01T07:59:13.460Z"
   },
   {
    "duration": 10,
    "start_time": "2022-07-01T07:59:13.617Z"
   },
   {
    "duration": 15,
    "start_time": "2022-07-01T07:59:13.628Z"
   },
   {
    "duration": 15,
    "start_time": "2022-07-01T07:59:13.645Z"
   },
   {
    "duration": 5,
    "start_time": "2022-07-01T08:32:10.634Z"
   },
   {
    "duration": 37,
    "start_time": "2022-07-01T08:32:10.667Z"
   },
   {
    "duration": 11,
    "start_time": "2022-07-01T08:32:10.706Z"
   },
   {
    "duration": 13,
    "start_time": "2022-07-01T08:32:10.719Z"
   },
   {
    "duration": 15,
    "start_time": "2022-07-01T08:32:10.734Z"
   },
   {
    "duration": 7,
    "start_time": "2022-07-01T08:32:10.751Z"
   },
   {
    "duration": 8,
    "start_time": "2022-07-01T08:32:10.760Z"
   },
   {
    "duration": 3116,
    "start_time": "2022-07-01T08:32:10.770Z"
   },
   {
    "duration": 4,
    "start_time": "2022-07-01T08:32:13.888Z"
   },
   {
    "duration": 288,
    "start_time": "2022-07-01T08:32:13.893Z"
   },
   {
    "duration": 6,
    "start_time": "2022-07-01T08:32:14.182Z"
   },
   {
    "duration": 47,
    "start_time": "2022-07-01T08:32:14.190Z"
   },
   {
    "duration": 15,
    "start_time": "2022-07-01T08:32:14.239Z"
   },
   {
    "duration": 1118,
    "start_time": "2022-07-01T08:32:14.256Z"
   },
   {
    "duration": 2175,
    "start_time": "2022-07-01T08:32:15.377Z"
   },
   {
    "duration": 1109,
    "start_time": "2022-07-01T08:32:17.555Z"
   },
   {
    "duration": 8,
    "start_time": "2022-07-01T08:32:18.666Z"
   },
   {
    "duration": 1148,
    "start_time": "2022-07-01T08:32:18.676Z"
   },
   {
    "duration": 20,
    "start_time": "2022-07-01T08:32:19.826Z"
   },
   {
    "duration": 8,
    "start_time": "2022-07-01T08:32:19.848Z"
   },
   {
    "duration": 2600,
    "start_time": "2022-07-01T08:32:19.857Z"
   },
   {
    "duration": 19,
    "start_time": "2022-07-01T08:32:22.459Z"
   },
   {
    "duration": 5,
    "start_time": "2022-07-01T08:32:22.479Z"
   },
   {
    "duration": 1380,
    "start_time": "2022-07-01T08:32:22.486Z"
   },
   {
    "duration": 1681,
    "start_time": "2022-07-01T08:32:23.868Z"
   },
   {
    "duration": 170,
    "start_time": "2022-07-01T08:32:25.551Z"
   },
   {
    "duration": 13,
    "start_time": "2022-07-01T08:32:25.723Z"
   },
   {
    "duration": 149,
    "start_time": "2022-07-01T08:32:25.739Z"
   },
   {
    "duration": 4,
    "start_time": "2022-07-01T08:32:25.889Z"
   },
   {
    "duration": 7,
    "start_time": "2022-07-01T08:32:25.895Z"
   },
   {
    "duration": 27,
    "start_time": "2022-07-01T08:32:25.904Z"
   },
   {
    "duration": 49,
    "start_time": "2022-07-01T08:53:19.941Z"
   },
   {
    "duration": 48,
    "start_time": "2022-07-01T08:53:37.166Z"
   },
   {
    "duration": 47,
    "start_time": "2022-07-01T08:54:15.312Z"
   },
   {
    "duration": 47,
    "start_time": "2022-07-01T08:54:24.850Z"
   },
   {
    "duration": 46,
    "start_time": "2022-07-01T08:54:36.148Z"
   },
   {
    "duration": 4,
    "start_time": "2022-07-01T08:59:40.798Z"
   },
   {
    "duration": 39,
    "start_time": "2022-07-01T08:59:40.804Z"
   },
   {
    "duration": 13,
    "start_time": "2022-07-01T08:59:40.845Z"
   },
   {
    "duration": 17,
    "start_time": "2022-07-01T08:59:40.859Z"
   },
   {
    "duration": 9,
    "start_time": "2022-07-01T08:59:40.879Z"
   },
   {
    "duration": 11,
    "start_time": "2022-07-01T08:59:40.889Z"
   },
   {
    "duration": 31,
    "start_time": "2022-07-01T08:59:40.902Z"
   },
   {
    "duration": 3243,
    "start_time": "2022-07-01T08:59:40.935Z"
   },
   {
    "duration": 4,
    "start_time": "2022-07-01T08:59:44.180Z"
   },
   {
    "duration": 315,
    "start_time": "2022-07-01T08:59:44.185Z"
   },
   {
    "duration": 6,
    "start_time": "2022-07-01T08:59:44.502Z"
   },
   {
    "duration": 64,
    "start_time": "2022-07-01T08:59:44.510Z"
   },
   {
    "duration": 18,
    "start_time": "2022-07-01T08:59:44.576Z"
   },
   {
    "duration": 932,
    "start_time": "2022-07-01T08:59:44.598Z"
   },
   {
    "duration": 2078,
    "start_time": "2022-07-01T08:59:45.532Z"
   },
   {
    "duration": 1167,
    "start_time": "2022-07-01T08:59:47.611Z"
   },
   {
    "duration": 7,
    "start_time": "2022-07-01T08:59:48.780Z"
   },
   {
    "duration": 1073,
    "start_time": "2022-07-01T08:59:48.788Z"
   },
   {
    "duration": 22,
    "start_time": "2022-07-01T08:59:49.862Z"
   },
   {
    "duration": 9,
    "start_time": "2022-07-01T08:59:49.886Z"
   },
   {
    "duration": 2058,
    "start_time": "2022-07-01T08:59:49.897Z"
   },
   {
    "duration": 17,
    "start_time": "2022-07-01T08:59:51.957Z"
   },
   {
    "duration": 5,
    "start_time": "2022-07-01T08:59:51.975Z"
   },
   {
    "duration": 1253,
    "start_time": "2022-07-01T08:59:51.981Z"
   },
   {
    "duration": 1719,
    "start_time": "2022-07-01T08:59:53.236Z"
   },
   {
    "duration": 174,
    "start_time": "2022-07-01T08:59:54.956Z"
   },
   {
    "duration": 12,
    "start_time": "2022-07-01T08:59:55.131Z"
   },
   {
    "duration": 155,
    "start_time": "2022-07-01T08:59:55.144Z"
   },
   {
    "duration": 4,
    "start_time": "2022-07-01T08:59:55.301Z"
   },
   {
    "duration": 8,
    "start_time": "2022-07-01T08:59:55.307Z"
   },
   {
    "duration": 16,
    "start_time": "2022-07-01T08:59:55.317Z"
   },
   {
    "duration": 1593,
    "start_time": "2022-07-01T12:18:59.633Z"
   },
   {
    "duration": 66,
    "start_time": "2022-07-01T12:19:04.069Z"
   },
   {
    "duration": 193,
    "start_time": "2022-07-01T12:19:12.164Z"
   }
  ],
  "kernelspec": {
   "display_name": "Python 3 (ipykernel)",
   "language": "python",
   "name": "python3"
  },
  "language_info": {
   "codemirror_mode": {
    "name": "ipython",
    "version": 3
   },
   "file_extension": ".py",
   "mimetype": "text/x-python",
   "name": "python",
   "nbconvert_exporter": "python",
   "pygments_lexer": "ipython3",
   "version": "3.9.5"
  },
  "toc": {
   "base_numbering": 1,
   "nav_menu": {},
   "number_sections": true,
   "sideBar": true,
   "skip_h1_title": true,
   "title_cell": "Table of Contents",
   "title_sidebar": "Contents",
   "toc_cell": false,
   "toc_position": {},
   "toc_section_display": true,
   "toc_window_display": false
  }
 },
 "nbformat": 4,
 "nbformat_minor": 2
}
